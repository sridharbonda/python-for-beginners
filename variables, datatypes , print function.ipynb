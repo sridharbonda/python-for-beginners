{
  "nbformat": 4,
  "nbformat_minor": 0,
  "metadata": {
    "colab": {
      "name": "Copy of Untitled",
      "provenance": [],
      "authorship_tag": "ABX9TyOfvuQFRdA70XK1qrtpYYHX",
      "include_colab_link": true
    },
    "kernelspec": {
      "name": "python3",
      "display_name": "Python 3"
    }
  },
  "cells": [
    {
      "cell_type": "markdown",
      "metadata": {
        "id": "view-in-github",
        "colab_type": "text"
      },
      "source": [
        "<a href=\"https://colab.research.google.com/github/sridharbonda/python-for-beginners/blob/master/variables%2C%20datatypes%20%2C%20print%20function.ipynb\" target=\"_parent\"><img src=\"https://colab.research.google.com/assets/colab-badge.svg\" alt=\"Open In Colab\"/></a>"
      ]
    },
    {
      "cell_type": "markdown",
      "metadata": {
        "id": "MuxrVHpr_m-a",
        "colab_type": "text"
      },
      "source": [
        "## **Variables**\n",
        "\n",
        "Variables are basically ontainers for storing data.\n",
        "In ptyhon variables hold specific memory loaction for storing data.\n",
        "\n",
        "## Datatypes\n",
        "\n",
        "Data types are the classification or categorization of data items.\n",
        "\n",
        "Built-in data type of Python:\n",
        "\n",
        "\n",
        "*   Numeric\n",
        "\n",
        "*   Sequential type(Lists,Tuples,strings)\n",
        "\n",
        "*   Boolean\n",
        "*   Set\n",
        "\n",
        "\n",
        "*   Dictionary\n",
        "\n",
        "\n",
        "\n",
        "\n",
        "\n",
        "\n",
        "\n"
      ]
    },
    {
      "cell_type": "code",
      "metadata": {
        "id": "lHC0k7Qm_AAa",
        "colab_type": "code",
        "outputId": "7d24042d-8914-4ed0-e91e-805cd643cd79",
        "colab": {
          "base_uri": "https://localhost:8080/",
          "height": 210
        }
      },
      "source": [
        "#assigning different datatypes to different variables\n",
        "a = 5\n",
        "print(\"Type of a: \", type(a)) \n",
        "  \n",
        "b = 5.0\n",
        "print(\"\\nType of b: \", type(b)) \n",
        "  \n",
        "c = 2 + 4j\n",
        "print(\"\\nType of c: \", type(c))\n",
        "\n",
        "d = \"Hello\"\n",
        "print(\"\\nType of d: \", type(d)) \n",
        "  \n",
        "e = [1,5,4,7,8]\n",
        "print(\"\\nType of e: \", type(e)) \n",
        "  \n",
        "f = {4,8,\"hello\"}\n",
        "print(\"\\nType of c: \", type(f))"
      ],
      "execution_count": 0,
      "outputs": [
        {
          "output_type": "stream",
          "text": [
            "Type of a:  <class 'int'>\n",
            "\n",
            "Type of b:  <class 'float'>\n",
            "\n",
            "Type of c:  <class 'complex'>\n",
            "\n",
            "Type of d:  <class 'str'>\n",
            "\n",
            "Type of e:  <class 'list'>\n",
            "\n",
            "Type of c:  <class 'set'>\n"
          ],
          "name": "stdout"
        }
      ]
    },
    {
      "cell_type": "markdown",
      "metadata": {
        "id": "BlS3w6SbB0H1",
        "colab_type": "text"
      },
      "source": [
        "## **Print function in python**\n",
        "\n",
        "The print() function prints the specified message to the screen, or other standard output device.\n",
        "\n",
        "\n",
        "\n"
      ]
    },
    {
      "cell_type": "code",
      "metadata": {
        "id": "ZyHJXFLLDUi1",
        "colab_type": "code",
        "outputId": "54134066-e8ff-4bab-d6ee-782f776598c7",
        "colab": {
          "base_uri": "https://localhost:8080/",
          "height": 34
        }
      },
      "source": [
        "# printing a string using print()\n",
        "print(\"HELLO EVERYONE\")\n",
        "\n"
      ],
      "execution_count": 0,
      "outputs": [
        {
          "output_type": "stream",
          "text": [
            "HELLO EVERYONE\n"
          ],
          "name": "stdout"
        }
      ]
    },
    {
      "cell_type": "markdown",
      "metadata": {
        "id": "2pn8gWiJDnM-",
        "colab_type": "text"
      },
      "source": [
        "When comma operator is used in print() the python compiler automatically understands the datatype of the each variable , converts the whole data into string and prints it."
      ]
    },
    {
      "cell_type": "code",
      "metadata": {
        "id": "3RFVsHm8ERPk",
        "colab_type": "code",
        "outputId": "cf5754dd-60bd-410d-9515-bd2a893f9457",
        "colab": {
          "base_uri": "https://localhost:8080/",
          "height": 70
        }
      },
      "source": [
        "a= 10\n",
        "b =30.5\n",
        "txt=\"hello\"\n",
        "\n",
        "print(\"a is\",a,\"\\nb is\",b,\"\\ntxt is\",txt)"
      ],
      "execution_count": 0,
      "outputs": [
        {
          "output_type": "stream",
          "text": [
            "a is 10 \n",
            "b is 30.5 \n",
            "txt is hello\n"
          ],
          "name": "stdout"
        }
      ]
    },
    {
      "cell_type": "markdown",
      "metadata": {
        "id": "9huwH8WmEqGt",
        "colab_type": "text"
      },
      "source": [
        "Printing multiple times"
      ]
    },
    {
      "cell_type": "code",
      "metadata": {
        "id": "JUhtZIZlFRc4",
        "colab_type": "code",
        "outputId": "0a2d9834-b286-4a1e-98f6-0612e43974df",
        "colab": {
          "base_uri": "https://localhost:8080/",
          "height": 34
        }
      },
      "source": [
        "print(\"Hello \"*3)"
      ],
      "execution_count": 0,
      "outputs": [
        {
          "output_type": "stream",
          "text": [
            "Hello Hello Hello \n"
          ],
          "name": "stdout"
        }
      ]
    },
    {
      "cell_type": "markdown",
      "metadata": {
        "id": "WiYimdUCFcdc",
        "colab_type": "text"
      },
      "source": [
        ""
      ]
    }
  ]
}