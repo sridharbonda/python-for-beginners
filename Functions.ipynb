{
  "nbformat": 4,
  "nbformat_minor": 0,
  "metadata": {
    "colab": {
      "name": "Untitled1.ipynb",
      "provenance": [],
      "authorship_tag": "ABX9TyP3yyrmpu2HOC4CjCuYRL0l",
      "include_colab_link": true
    },
    "kernelspec": {
      "name": "python3",
      "display_name": "Python 3"
    }
  },
  "cells": [
    {
      "cell_type": "markdown",
      "metadata": {
        "id": "view-in-github",
        "colab_type": "text"
      },
      "source": [
        "<a href=\"https://colab.research.google.com/github/sridharbonda/python-for-beginners/blob/master/Functions.ipynb\" target=\"_parent\"><img src=\"https://colab.research.google.com/assets/colab-badge.svg\" alt=\"Open In Colab\"/></a>"
      ]
    },
    {
      "cell_type": "markdown",
      "metadata": {
        "id": "Oca0fEpR8sR6",
        "colab_type": "text"
      },
      "source": [
        "# **FUNCTIONS**\n",
        "A function is a block of code which only runs when it is called. \n",
        "Python provides built-in functions like print(), etc. but we can also create your own functions. These functions are called user-defined functions.\n",
        "\n",
        "Function is defined using def command\n"
      ]
    },
    {
      "cell_type": "code",
      "metadata": {
        "id": "R367clam8de5",
        "colab_type": "code",
        "outputId": "03678774-4797-4237-bc7e-a3be6ef85fb8",
        "colab": {
          "base_uri": "https://localhost:8080/",
          "height": 34
        }
      },
      "source": [
        "#defining a function\n",
        "def hello():\n",
        "  print(\"Function definition\")\n",
        "\n",
        "#calling a function\n",
        "hello()"
      ],
      "execution_count": 1,
      "outputs": [
        {
          "output_type": "stream",
          "text": [
            "Function definition\n"
          ],
          "name": "stdout"
        }
      ]
    },
    {
      "cell_type": "markdown",
      "metadata": {
        "id": "w5MT7aNZG_jC",
        "colab_type": "text"
      },
      "source": [
        "## **Parameters**\n",
        "Parameter is the variable listed inside the parentheses in the function definition.\n",
        "\n",
        "## **Arguments**\n",
        "An argument is the value passed to the function when it is called.\n",
        "\n",
        "return statement used to return a value \n",
        "\n",
        "Built-in function print() is used to print output or data on output device. Using input() function the input from the user is read as a string and can be assigned to a variable.\n",
        "\n"
      ]
    },
    {
      "cell_type": "code",
      "metadata": {
        "id": "erZrHsyUG_08",
        "colab_type": "code",
        "colab": {
          "base_uri": "https://localhost:8080/",
          "height": 52
        },
        "outputId": "8caaab99-c9af-4f8e-d980-b4eb07ef041d"
      },
      "source": [
        "#function to check whether the entered text is a valid phone number\n",
        "def isphonenumber(text):\n",
        "  if(len(text))!=10:#checking the length of number entered\n",
        "    return False\n",
        "  for i in range(0,9):\n",
        "    if not text[i].isdecimal():#To check whether the enter text contain any symbols other than number \n",
        "      return False\n",
        "  return True\n",
        "\n",
        "number=str(input(\"Enter phone number \"))\n",
        "if isphonenumber(number)==True:\n",
        "  print(\"It's a valid phone number\")\n",
        "else:\n",
        "  print(\"Check the number entered\")"
      ],
      "execution_count": 2,
      "outputs": [
        {
          "output_type": "stream",
          "text": [
            "Enter phone number 7044445555667\n",
            "Check the number entered\n"
          ],
          "name": "stdout"
        }
      ]
    },
    {
      "cell_type": "markdown",
      "metadata": {
        "id": "siBlFS4wKRn6",
        "colab_type": "text"
      },
      "source": [
        "## **Lamba Function**\n",
        "A lambda operator or lambda function is used for creating small , one time, *anonymous* function objects in python.\n",
        "\n",
        "In lambda x,y:x+y  ; x and y are arguments to function and x+y is the expression which gts executed and its value is returned as output"
      ]
    },
    {
      "cell_type": "code",
      "metadata": {
        "id": "qNHuIArYKR1u",
        "colab_type": "code",
        "colab": {
          "base_uri": "https://localhost:8080/",
          "height": 34
        },
        "outputId": "bc2e9e12-4004-4a01-ebaf-89282c72d3ea"
      },
      "source": [
        "add = lambda x,y:x+y\n",
        "print(add(4,5))"
      ],
      "execution_count": 3,
      "outputs": [
        {
          "output_type": "stream",
          "text": [
            "9\n"
          ],
          "name": "stdout"
        }
      ]
    },
    {
      "cell_type": "markdown",
      "metadata": {
        "id": "I6w_5qESL0d3",
        "colab_type": "text"
      },
      "source": [
        "## **map() Function**\n",
        "Python map() function is used to apply a function on all the elements of specified iterable and return map object. Python map object is an iterator, so we can iterate over its elements.\n"
      ]
    },
    {
      "cell_type": "code",
      "metadata": {
        "id": "A0uSxxtOL0qz",
        "colab_type": "code",
        "colab": {
          "base_uri": "https://localhost:8080/",
          "height": 52
        },
        "outputId": "cff05301-70d7-4037-fbbe-c5f6006696bf"
      },
      "source": [
        "def multiply(x):\n",
        "  return x*3\n",
        "\n",
        "x=map(multiply,[5,8,9])\n",
        "print(x)\n",
        "\n",
        "#for readability, convert the map into a list:\n",
        "print(list(x))"
      ],
      "execution_count": 8,
      "outputs": [
        {
          "output_type": "stream",
          "text": [
            "<map object at 0x7f023c93deb8>\n",
            "[15, 24, 27]\n"
          ],
          "name": "stdout"
        }
      ]
    },
    {
      "cell_type": "markdown",
      "metadata": {
        "id": "SenALmRRN53v",
        "colab_type": "text"
      },
      "source": [
        "## **Filter Function**\n",
        "The filter function expects two arguments: function-object and iterable.\n",
        "The function-object returns a boolean value. Filters returns only those elements for which the function-object returns true"
      ]
    },
    {
      "cell_type": "code",
      "metadata": {
        "id": "l993RvZ-N6Rv",
        "colab_type": "code",
        "colab": {
          "base_uri": "https://localhost:8080/",
          "height": 34
        },
        "outputId": "20a66ec5-2b88-4640-cd2b-00b416c7ecc6"
      },
      "source": [
        "#function-object created using lambda function\n",
        "#functio_object checks if the number is even or odd\n",
        "x=filter(lambda x:x%2==0,[1,2,3,4,5,6])\n",
        "\n",
        "#filter function returns only even numbers\n",
        "print(list(x))"
      ],
      "execution_count": 10,
      "outputs": [
        {
          "output_type": "stream",
          "text": [
            "[2, 4, 6]\n"
          ],
          "name": "stdout"
        }
      ]
    }
  ]
}