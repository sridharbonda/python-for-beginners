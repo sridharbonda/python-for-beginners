{
  "nbformat": 4,
  "nbformat_minor": 0,
  "metadata": {
    "colab": {
      "name": "numpy and functions",
      "provenance": [],
      "collapsed_sections": []
    },
    "kernelspec": {
      "name": "python3",
      "display_name": "Python 3"
    }
  },
  "cells": [
    {
      "cell_type": "markdown",
      "metadata": {
        "id": "Zo3hX292E9G0",
        "colab_type": "text"
      },
      "source": [
        "## **Function**\n",
        "\n",
        "\n",
        "---\n",
        "\n",
        "\n",
        "\n",
        "---\n",
        "\n",
        "\n",
        "Function is a block of code which performs certin task when called\n",
        "\n",
        "syntax:\n",
        "\n",
        "\n",
        "```\n",
        "def <function name> (parameters)\n",
        "```\n",
        "\n",
        "\n"
      ]
    },
    {
      "cell_type": "code",
      "metadata": {
        "id": "a74bwVVtE9VP",
        "colab_type": "code",
        "outputId": "a6a777d7-eea2-4986-99eb-1e73710c8c64",
        "colab": {
          "base_uri": "https://localhost:8080/",
          "height": 50
        }
      },
      "source": [
        "# defining a function\n",
        "\n",
        "def multiply(x):\n",
        "  return x**2\n",
        "\n",
        "a = int(input(\"Enter an number\"))\n",
        "\n",
        "# calling the function\n",
        "print(\"Square of the number passed by user is:\",multiply(a))"
      ],
      "execution_count": 0,
      "outputs": [
        {
          "output_type": "stream",
          "text": [
            "Enter an number3\n",
            "Square of the number passed by user is: 9\n"
          ],
          "name": "stdout"
        }
      ]
    },
    {
      "cell_type": "markdown",
      "metadata": {
        "id": "ejyy-0Z-GKfb",
        "colab_type": "text"
      },
      "source": [
        "## Inbuilt functions\n",
        "\n",
        "map()\n",
        "\n",
        "> returns a map object of the results after applying the given function to each item of a given iterable.\n",
        "\n",
        "lambda()\n",
        "\n",
        "\n",
        "> it is an samll autonomous function.This function can have any number of arguments but only one expression, which is evaluated and returned.\n",
        "\n",
        "split()\n",
        "\n",
        "\n",
        "\n",
        "> this function splits the string passed into an list of characters depending upon the seperator passed\n",
        "\n",
        "\n",
        "join()\n",
        "\n",
        "> this function works exactly opposite to the split(), i.e.,joins the list back into a string\n",
        "\n",
        "\n",
        "\n"
      ]
    },
    {
      "cell_type": "code",
      "metadata": {
        "id": "oNikC1R3GKrr",
        "colab_type": "code",
        "outputId": "eea95808-bddc-41fc-ff6e-9a4cc826061f",
        "colab": {
          "base_uri": "https://localhost:8080/",
          "height": 84
        }
      },
      "source": [
        "a = [1,2,3,4,5,6,7]\n",
        "\n",
        "f=lambda x:x**2\n",
        "\n",
        "print(f(3))\n",
        "\n",
        "square=map(f,a)\n",
        "print(list(square))\n",
        "\n",
        "str_r=\"hello i am programmer\"\n",
        "b=str_r.split(\" \")\n",
        "print(b)\n",
        "\n",
        "str_o=\" \".join(b)\n",
        "print(str_o)"
      ],
      "execution_count": 0,
      "outputs": [
        {
          "output_type": "stream",
          "text": [
            "9\n",
            "[1, 4, 9, 16, 25, 36, 49]\n",
            "['hello', 'i', 'am', 'programmer']\n",
            "hello i am programmer\n"
          ],
          "name": "stdout"
        }
      ]
    },
    {
      "cell_type": "markdown",
      "metadata": {
        "id": "twnhOVXnCh2R",
        "colab_type": "text"
      },
      "source": [
        "## **Numpy**\n",
        "\n",
        "\n",
        "---\n",
        "\n",
        "\n",
        "\n",
        "---\n",
        "\n",
        "\n",
        "NumPy is a general-purpose array-processing package. It provides a high-performance multidimensional array object, and tools for working with these arrays.\n",
        "\n",
        "pip command for installing numpy library is\n",
        "\n",
        "```\n",
        "pip install numpy\n",
        "```\n"
      ]
    },
    {
      "cell_type": "code",
      "metadata": {
        "id": "0HJZp0SJKGFl",
        "colab_type": "code",
        "outputId": "d9071b0e-fadb-4aa0-b8d0-a6eb18f8e5a7",
        "colab": {
          "base_uri": "https://localhost:8080/",
          "height": 34
        }
      },
      "source": [
        "import numpy as np\n",
        "\n",
        "# creating an array\n",
        "a = np.array([1,3,5,6])\n",
        "print(a)"
      ],
      "execution_count": 0,
      "outputs": [
        {
          "output_type": "stream",
          "text": [
            "[1 3 5 6]\n"
          ],
          "name": "stdout"
        }
      ]
    },
    {
      "cell_type": "code",
      "metadata": {
        "id": "3dh_dnKEKZ_r",
        "colab_type": "code",
        "outputId": "e7ec3d3d-a45b-4cc8-e75e-0f3117bd2dc6",
        "colab": {
          "base_uri": "https://localhost:8080/",
          "height": 67
        }
      },
      "source": [
        "import numpy as np\n",
        "\n",
        "# creating multidimension array\n",
        "a = np.array([[2,6,7],[78,6,4,],[7,8,9]])\n",
        "print(a)"
      ],
      "execution_count": 0,
      "outputs": [
        {
          "output_type": "stream",
          "text": [
            "[[ 2  6  7]\n",
            " [78  6  4]\n",
            " [ 7  8  9]]\n"
          ],
          "name": "stdout"
        }
      ]
    },
    {
      "cell_type": "code",
      "metadata": {
        "id": "qhUJ1AIDDl06",
        "colab_type": "code",
        "outputId": "8f3fdef8-4e29-4586-e996-2d2c89cc0ed0",
        "colab": {
          "base_uri": "https://localhost:8080/",
          "height": 185
        }
      },
      "source": [
        "import numpy as np\n",
        "\n",
        "# creating a empty array\n",
        "a = np.empty([3,3],dtype=\"int8\")\n",
        "print(a)\n",
        "\n",
        "# creating an array whose every element is zero\n",
        "b = np.zeros([2,6])\n",
        "print(b)\n",
        "\n",
        "# creating an array whose every element is one\n",
        "c = np.ones([5,6])\n",
        "print(c)"
      ],
      "execution_count": 0,
      "outputs": [
        {
          "output_type": "stream",
          "text": [
            "[[-80  65 -94]\n",
            " [  4   0   0]\n",
            " [  0   0  64]]\n",
            "[[0. 0. 0. 0. 0. 0.]\n",
            " [0. 0. 0. 0. 0. 0.]]\n",
            "[[1. 1. 1. 1. 1. 1.]\n",
            " [1. 1. 1. 1. 1. 1.]\n",
            " [1. 1. 1. 1. 1. 1.]\n",
            " [1. 1. 1. 1. 1. 1.]\n",
            " [1. 1. 1. 1. 1. 1.]]\n"
          ],
          "name": "stdout"
        }
      ]
    },
    {
      "cell_type": "code",
      "metadata": {
        "id": "mCPN5wIANVWW",
        "colab_type": "code",
        "outputId": "32713135-f668-4bcd-8cb9-1777b18e413a",
        "colab": {
          "base_uri": "https://localhost:8080/",
          "height": 50
        }
      },
      "source": [
        "# using dtype parameter\n",
        "import numpy as np\n",
        "\n",
        "# giving datatype of every element as complex\n",
        "a = np.array([1,3,5],dtype = \"complex\")\n",
        "print(a)\n",
        "\n",
        "# giving datatype of every element as float\n",
        "a = np.array([1,3,5],dtype = \"float\")\n",
        "print(a)"
      ],
      "execution_count": 0,
      "outputs": [
        {
          "output_type": "stream",
          "text": [
            "[1.+0.j 3.+0.j 5.+0.j]\n",
            "[1. 3. 5.]\n"
          ],
          "name": "stdout"
        }
      ]
    },
    {
      "cell_type": "code",
      "metadata": {
        "id": "ptA-M9MbOWDz",
        "colab_type": "code",
        "outputId": "df7ac284-1ab6-403e-ab34-da0a12246964",
        "colab": {
          "base_uri": "https://localhost:8080/",
          "height": 34
        }
      },
      "source": [
        "# ndarray returns dimension of ndarray\n",
        "import numpy as np\n",
        "\n",
        "a = np.array([[1,3,2],[3,6,7]])\n",
        "print(a.shape)"
      ],
      "execution_count": 0,
      "outputs": [
        {
          "output_type": "stream",
          "text": [
            "(2, 3)\n"
          ],
          "name": "stdout"
        }
      ]
    },
    {
      "cell_type": "code",
      "metadata": {
        "id": "iZ4pb27pB8Pb",
        "colab_type": "code",
        "outputId": "339893c7-cb99-4e07-ec22-99aee3253174",
        "colab": {
          "base_uri": "https://localhost:8080/",
          "height": 185
        }
      },
      "source": [
        "import numpy as np\n",
        "\n",
        "# creating one dimensional array \n",
        "# using arange()\n",
        "# it returns the numbers in the range of specified value\n",
        "# creates an spaced array\n",
        "import numpy as np \n",
        "a = np.arange(24) \n",
        "a.ndim # .ndim returns array dimension\n",
        "print(a.ndim)\n",
        "\n",
        "# now reshape it \n",
        "b = a.reshape(2,4,3) \n",
        "print (b) \n",
        "# b is having three dimensions"
      ],
      "execution_count": 0,
      "outputs": [
        {
          "output_type": "stream",
          "text": [
            "1\n",
            "[[[ 0  1  2]\n",
            "  [ 3  4  5]\n",
            "  [ 6  7  8]\n",
            "  [ 9 10 11]]\n",
            "\n",
            " [[12 13 14]\n",
            "  [15 16 17]\n",
            "  [18 19 20]\n",
            "  [21 22 23]]]\n"
          ],
          "name": "stdout"
        }
      ]
    },
    {
      "cell_type": "code",
      "metadata": {
        "id": "I-3zcyI7GmFE",
        "colab_type": "code",
        "outputId": "fbf75c85-c241-4b62-88dc-a2b7193b289b",
        "colab": {
          "base_uri": "https://localhost:8080/",
          "height": 118
        }
      },
      "source": [
        "import numpy as np\n",
        "# using some universal functions\n",
        "a=np.array([[1,4,5],[2,6,8]])\n",
        "\n",
        "# exponential values \n",
        "print (\"Exponent of array elements:\\n\", np.exp(a)) \n",
        "  \n",
        "# square root of array values \n",
        "print (\"Square root of array elements:\\n\", np.sqrt(a)) \n"
      ],
      "execution_count": 0,
      "outputs": [
        {
          "output_type": "stream",
          "text": [
            "Exponent of array elements:\n",
            " [[2.71828183e+00 5.45981500e+01 1.48413159e+02]\n",
            " [7.38905610e+00 4.03428793e+02 2.98095799e+03]]\n",
            "Square root of array elements:\n",
            " [[1.         2.         2.23606798]\n",
            " [1.41421356 2.44948974 2.82842712]]\n"
          ],
          "name": "stdout"
        }
      ]
    },
    {
      "cell_type": "markdown",
      "metadata": {
        "id": "2PSQRfcyGll5",
        "colab_type": "text"
      },
      "source": [
        "## Saving and loading Numpy arrays\n",
        "\n",
        "numpy.load() function return the input array from a disk file with npy extension(.npy)\n",
        "\n",
        "numpy.save() function is used to store the input array in a disk file with npy extension(.npy)"
      ]
    },
    {
      "cell_type": "code",
      "metadata": {
        "id": "eDW6WheD_-Sc",
        "colab_type": "code",
        "outputId": "5798662c-5a2d-480c-db1a-1f4ae0a0e62c",
        "colab": {
          "base_uri": "https://localhost:8080/",
          "height": 101
        }
      },
      "source": [
        "import numpy as np\n",
        "\n",
        "# cretaing an numpy array\n",
        "a = np.array(([i for i in range(0,20,2)]))\n",
        "print(\"Aray created and which is been saved in new file:\")\n",
        "print(a)\n",
        "\n",
        "# saving the array in testing.npy file\n",
        "np.save(\"testing.npy\",a)\n",
        "\n",
        "# loading the array from testimg.npy to new array\n",
        "b = np.load(\"testing.npy\")\n",
        "\n",
        "print(\"\\nArray loaded from the file created:\")\n",
        "print(b)"
      ],
      "execution_count": 0,
      "outputs": [
        {
          "output_type": "stream",
          "text": [
            "Aray created and which is been saved in new file:\n",
            "[ 0  2  4  6  8 10 12 14 16 18]\n",
            "\n",
            "Array loaded from the file created:\n",
            "[ 0  2  4  6  8 10 12 14 16 18]\n"
          ],
          "name": "stdout"
        }
      ]
    },
    {
      "cell_type": "markdown",
      "metadata": {
        "id": "h6QalcsnE4Fg",
        "colab_type": "text"
      },
      "source": [
        "## Slicing ,indexing and manipulation\n",
        "\n"
      ]
    },
    {
      "cell_type": "code",
      "metadata": {
        "id": "E4JuN9A_E4Ul",
        "colab_type": "code",
        "outputId": "731ec054-4615-4d66-afdd-667a8bf04b1c",
        "colab": {
          "base_uri": "https://localhost:8080/",
          "height": 118
        }
      },
      "source": [
        "# basic slicing\n",
        "\n",
        "import numpy as np \n",
        "\n",
        "a = np.arange(20) \n",
        "print(\"Array is:\\n\",a) \n",
        "  \n",
        "# a[start:stop:step] \n",
        "# negative index is taken from the end of the array\n",
        "print(\"\\n a[-8:17:1]  = \",a[-8:17:1])  \n",
        "  \n",
        "# the : operator means all elements till the end \n",
        "print(\"\\n last 10 elements\",a[10:]) "
      ],
      "execution_count": 0,
      "outputs": [
        {
          "output_type": "stream",
          "text": [
            "Array is:\n",
            " [ 0  1  2  3  4  5  6  7  8  9 10 11 12 13 14 15 16 17 18 19]\n",
            "\n",
            " a[-8:17:1]  =  [12 13 14 15 16]\n",
            "\n",
            " last 10 elements [10 11 12 13 14 15 16 17 18 19]\n"
          ],
          "name": "stdout"
        }
      ]
    },
    {
      "cell_type": "code",
      "metadata": {
        "id": "kjFrkqgHWQO4",
        "colab_type": "code",
        "outputId": "1e73d4b1-c2e7-4fb0-a584-328d1530615a",
        "colab": {
          "base_uri": "https://localhost:8080/",
          "height": 67
        }
      },
      "source": [
        "# boolean indexing\n",
        "import numpy as np\n",
        "\n",
        "a = np.arange(20) \n",
        "print(\"Array is:\\n\",a) \n",
        "\n",
        "print(\"elements whose value is greater than 10:\",a[a>10])"
      ],
      "execution_count": 0,
      "outputs": [
        {
          "output_type": "stream",
          "text": [
            "Array is:\n",
            " [ 0  1  2  3  4  5  6  7  8  9 10 11 12 13 14 15 16 17 18 19]\n",
            "elements whose value is greater than 10: [11 12 13 14 15 16 17 18 19]\n"
          ],
          "name": "stdout"
        }
      ]
    },
    {
      "cell_type": "code",
      "metadata": {
        "id": "R8MKH8pdX2JG",
        "colab_type": "code",
        "outputId": "9cbd7c21-6d5a-4a5e-b5d8-dac272923395",
        "colab": {
          "base_uri": "https://localhost:8080/",
          "height": 118
        }
      },
      "source": [
        "# advanced indexing\n",
        "import numpy as np\n",
        "\n",
        "a = np.array([[1,7,89,1,6],[1,4,5,6,4],[3,6,4,2,6]])\n",
        "print(\"Array is:\\n\",a)\n",
        "\n",
        "print(\"Elements at location (0,0),(1,1),(2,2)\\n\",a[[0,1,2],[0,1,2]]) \n"
      ],
      "execution_count": 0,
      "outputs": [
        {
          "output_type": "stream",
          "text": [
            "Array is:\n",
            " [[ 1  7 89  1  6]\n",
            " [ 1  4  5  6  4]\n",
            " [ 3  6  4  2  6]]\n",
            "Elements at location (0,0),(1,1),(2,2)\n",
            " [1 4 4]\n"
          ],
          "name": "stdout"
        }
      ]
    },
    {
      "cell_type": "code",
      "metadata": {
        "id": "Aj35B0IpBUzA",
        "colab_type": "code",
        "outputId": "43fcf9a9-0762-4f91-915f-a2e3f71d1d7d",
        "colab": {
          "base_uri": "https://localhost:8080/",
          "height": 319
        }
      },
      "source": [
        "# NumPy also provides a reshape function to resize an array\n",
        "import numpy as np\n",
        "\n",
        "a = np.array([[1,3,2],[3,6,7]])\n",
        "print(\"dimensions of a\\n\",a.shape)\n",
        "\n",
        "# resizing an array\n",
        "# even after resizing the size of array should remain same\n",
        "b = a.reshape(6,1)\n",
        "print(\"b:\\n\",b)\n",
        "\n",
        "c=np.array([[3,6,7],[12,6,5]])\n",
        "# Concating two arrays\n",
        "d=np.concatenate((a,c))\n",
        "print(\"concated array\\n\",d)\n",
        "\n",
        "# appending elements\n",
        "print(\"After appending\\n\",np.append(a,[1,2,3]))\n",
        "\n",
        "# deleting object [1,2,3]\n",
        "print(\"\\n\",np.delete(a,[1,2,3]))"
      ],
      "execution_count": 42,
      "outputs": [
        {
          "output_type": "stream",
          "text": [
            "dimensions of a\n",
            " (2, 3)\n",
            "b:\n",
            " [[1]\n",
            " [3]\n",
            " [2]\n",
            " [3]\n",
            " [6]\n",
            " [7]]\n",
            "concated array\n",
            " [[ 1  3  2]\n",
            " [ 3  6  7]\n",
            " [ 3  6  7]\n",
            " [12  6  5]]\n",
            "After appending\n",
            " [1 3 2 3 6 7 1 2 3]\n",
            "\n",
            " [1 6 7]\n"
          ],
          "name": "stdout"
        }
      ]
    }
  ]
}