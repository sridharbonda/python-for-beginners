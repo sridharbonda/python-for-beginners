{
  "nbformat": 4,
  "nbformat_minor": 0,
  "metadata": {
    "colab": {
      "name": "pandas and matplotlib",
      "provenance": [],
      "collapsed_sections": []
    },
    "kernelspec": {
      "name": "python3",
      "display_name": "Python 3"
    }
  },
  "cells": [
    {
      "cell_type": "markdown",
      "metadata": {
        "id": "hAatz0u-Nibz",
        "colab_type": "text"
      },
      "source": [
        "## **Pandas**\n",
        "\n",
        "\n",
        "---\n",
        "\n",
        "\n",
        "\n",
        "---\n",
        "\n",
        "\n",
        "Pandas is an open-source, easy-to-use data structures and data analysis tools for the Python programming language.\n",
        "\n",
        "we can analyse the data with:\n",
        "\n",
        "1. series\n",
        "\n",
        "2. dataframe\n",
        "\n",
        "command in pip to insatll pandas library\n",
        "\n",
        "\n",
        "```\n",
        "pip install pandas\n",
        "```\n",
        "\n",
        "## Series\n",
        "\n",
        "creating an series\n",
        "\n",
        "\n",
        "\n",
        "```\n",
        "import pandas \n",
        "\n",
        "df=pandas.Series(Data,Index)\n",
        "```\n",
        "\n",
        "\n"
      ]
    },
    {
      "cell_type": "code",
      "metadata": {
        "id": "Oz5QY038Btqc",
        "colab_type": "code",
        "outputId": "e4561348-8c61-442b-c087-060e22179874",
        "colab": {
          "base_uri": "https://localhost:8080/",
          "height": 319
        }
      },
      "source": [
        "import pandas as pd\n",
        "\n",
        "Data=[1,3,2,4,2,1]\n",
        "print(\"Printing series with default index\\n------------------------\")\n",
        "ds=pd.Series(Data)\n",
        "print(ds)\n",
        "\n",
        "print(\"Printing series with new index\\n------------------------\")\n",
        "index=['a','b','c','d','e','f']\n",
        "ds1=pd.Series(Data,index)\n",
        "print(ds1)"
      ],
      "execution_count": 0,
      "outputs": [
        {
          "output_type": "stream",
          "text": [
            "Printing series with default index\n",
            "------------------------\n",
            "0    1\n",
            "1    3\n",
            "2    2\n",
            "3    4\n",
            "4    2\n",
            "5    1\n",
            "dtype: int64\n",
            "Printing series with new index\n",
            "------------------------\n",
            "a    1\n",
            "b    3\n",
            "c    2\n",
            "d    4\n",
            "e    2\n",
            "f    1\n",
            "dtype: int64\n"
          ],
          "name": "stdout"
        }
      ]
    },
    {
      "cell_type": "code",
      "metadata": {
        "id": "fcT45lCKfjH8",
        "colab_type": "code",
        "outputId": "d0262cf3-80be-45c1-e09a-cfa0eab91c7d",
        "colab": {
          "base_uri": "https://localhost:8080/",
          "height": 101
        }
      },
      "source": [
        "import pandas as pd\n",
        "\n",
        "# when the Data is in form of dictionary\n",
        "Dict1={\"1st\":\"Mumbai\",\"2nd\":\"Delhi\",\"3rd\":\"Bangalore\",\"4rth\":\"Chennai\"}\n",
        "\n",
        "ds=pd.Series(Dict1)\n",
        "print(ds)\n"
      ],
      "execution_count": 0,
      "outputs": [
        {
          "output_type": "stream",
          "text": [
            "1st        Mumbai\n",
            "2nd         Delhi\n",
            "3rd     Bangalore\n",
            "4rth      Chennai\n",
            "dtype: object\n"
          ],
          "name": "stdout"
        }
      ]
    },
    {
      "cell_type": "markdown",
      "metadata": {
        "id": "AQ6m39ZJgbt8",
        "colab_type": "text"
      },
      "source": [
        "## Dataframes\n",
        "\n",
        "\n",
        "DataFrames is two-dimensional(2-D) data structure defined in pandas which consists of rows and columns.\n",
        "\n",
        "creating an Dataframe\n",
        "\n",
        "\n",
        "```\n",
        "import pandas\n",
        "\n",
        "df=pandas.DataFrame(Data)\n",
        "```\n",
        "\n"
      ]
    },
    {
      "cell_type": "code",
      "metadata": {
        "id": "mgbhpiH9gmoc",
        "colab_type": "code",
        "outputId": "60a705c8-99cc-4968-e0ab-003058700e5d",
        "colab": {
          "base_uri": "https://localhost:8080/",
          "height": 118
        }
      },
      "source": [
        "import pandas as pd\n",
        "\n",
        "# creating dataframe using dictonaries\n",
        "\n",
        "Dict1={'a':8,'b':564,'c':34,'d':89,'e':6}\n",
        "Dict2={'a':8,'c':34,'d':89,'e':6}\n",
        "\n",
        "Comb={'First':Dict1,'Second':Dict2}\n",
        "\n",
        "df=pd.DataFrame(Comb)\n",
        "\n",
        "print(df)"
      ],
      "execution_count": 0,
      "outputs": [
        {
          "output_type": "stream",
          "text": [
            "   First  Second\n",
            "a      8     8.0\n",
            "b    564     NaN\n",
            "c     34    34.0\n",
            "d     89    89.0\n",
            "e      6     6.0\n"
          ],
          "name": "stdout"
        }
      ]
    },
    {
      "cell_type": "code",
      "metadata": {
        "id": "6QHamWr4jSg-",
        "colab_type": "code",
        "outputId": "ef2bf001-b2d7-4c20-e973-fed20e90ac44",
        "colab": {
          "base_uri": "https://localhost:8080/",
          "height": 252
        }
      },
      "source": [
        "import pandas as pd\n",
        "\n",
        "# creating dataframe using series\n",
        "\n",
        "s1=pd.Series([3,4,2,5,1])\n",
        "s2=pd.Series([4,2,3,1,32,4])\n",
        "s3=pd.Series([3,7,8,2,90])\n",
        "\n",
        "Data={'First':s1,'Second':s2,'Third':s3}\n",
        "df=pd.DataFrame(Data)\n",
        "print(df)\n"
      ],
      "execution_count": 0,
      "outputs": [
        {
          "output_type": "stream",
          "text": [
            "   First  Second  Third\n",
            "0    3.0       4    3.0\n",
            "1    4.0       2    7.0\n",
            "2    2.0       3    8.0\n",
            "3    5.0       1    2.0\n",
            "4    1.0      32   90.0\n",
            "5    NaN       4    NaN\n",
            "   Unnamed: 0  First  Second  Third\n",
            "0           0    3.0       4    3.0\n",
            "1           1    4.0       2    7.0\n",
            "2           2    2.0       3    8.0\n",
            "3           3    5.0       1    2.0\n",
            "4           4    1.0      32   90.0\n",
            "5           5    NaN       4    NaN\n"
          ],
          "name": "stdout"
        }
      ]
    },
    {
      "cell_type": "markdown",
      "metadata": {
        "id": "4hQydRyi8sdw",
        "colab_type": "text"
      },
      "source": [
        "## Reading and writing .csv file"
      ]
    },
    {
      "cell_type": "code",
      "metadata": {
        "id": "bfiZKal_8ssf",
        "colab_type": "code",
        "outputId": "534eeb5e-c4b0-451f-b187-9064366d7b67",
        "colab": {
          "base_uri": "https://localhost:8080/",
          "height": 342
        }
      },
      "source": [
        "import pandas as pd\n",
        "\n",
        "# creating dataframe using series\n",
        "\n",
        "s1=pd.Series([3,4,2,5,1])\n",
        "s2=pd.Series([4,2,3,1,32,4])\n",
        "s3=pd.Series([3,7,8,2,90])\n",
        "\n",
        "Data={'First':s1,'Second':s2,'Third':s3}\n",
        "df=pd.DataFrame(Data)\n",
        "\n",
        "# .to_csv() is used to create dataframe in an file\n",
        "# writing .csv file\n",
        "df.to_csv(\"data.csv\")\n",
        "\n",
        "# reading the .csv files\n",
        "df1=pd.read_csv(\"data.csv\")\n",
        "print(df1)\n",
        "\n",
        "# the above adds an extra column having index \n",
        "# to remove it\n",
        "del df1[\"Unnamed: 0\"]\n",
        "\n",
        "# dataframe can be printed in following way\n",
        "df1"
      ],
      "execution_count": 0,
      "outputs": [
        {
          "output_type": "stream",
          "text": [
            "   Unnamed: 0  First  Second  Third\n",
            "0           0    3.0       4    3.0\n",
            "1           1    4.0       2    7.0\n",
            "2           2    2.0       3    8.0\n",
            "3           3    5.0       1    2.0\n",
            "4           4    1.0      32   90.0\n",
            "5           5    NaN       4    NaN\n"
          ],
          "name": "stdout"
        },
        {
          "output_type": "execute_result",
          "data": {
            "text/html": [
              "<div>\n",
              "<style scoped>\n",
              "    .dataframe tbody tr th:only-of-type {\n",
              "        vertical-align: middle;\n",
              "    }\n",
              "\n",
              "    .dataframe tbody tr th {\n",
              "        vertical-align: top;\n",
              "    }\n",
              "\n",
              "    .dataframe thead th {\n",
              "        text-align: right;\n",
              "    }\n",
              "</style>\n",
              "<table border=\"1\" class=\"dataframe\">\n",
              "  <thead>\n",
              "    <tr style=\"text-align: right;\">\n",
              "      <th></th>\n",
              "      <th>First</th>\n",
              "      <th>Second</th>\n",
              "      <th>Third</th>\n",
              "    </tr>\n",
              "  </thead>\n",
              "  <tbody>\n",
              "    <tr>\n",
              "      <th>0</th>\n",
              "      <td>3.0</td>\n",
              "      <td>4</td>\n",
              "      <td>3.0</td>\n",
              "    </tr>\n",
              "    <tr>\n",
              "      <th>1</th>\n",
              "      <td>4.0</td>\n",
              "      <td>2</td>\n",
              "      <td>7.0</td>\n",
              "    </tr>\n",
              "    <tr>\n",
              "      <th>2</th>\n",
              "      <td>2.0</td>\n",
              "      <td>3</td>\n",
              "      <td>8.0</td>\n",
              "    </tr>\n",
              "    <tr>\n",
              "      <th>3</th>\n",
              "      <td>5.0</td>\n",
              "      <td>1</td>\n",
              "      <td>2.0</td>\n",
              "    </tr>\n",
              "    <tr>\n",
              "      <th>4</th>\n",
              "      <td>1.0</td>\n",
              "      <td>32</td>\n",
              "      <td>90.0</td>\n",
              "    </tr>\n",
              "    <tr>\n",
              "      <th>5</th>\n",
              "      <td>NaN</td>\n",
              "      <td>4</td>\n",
              "      <td>NaN</td>\n",
              "    </tr>\n",
              "  </tbody>\n",
              "</table>\n",
              "</div>"
            ],
            "text/plain": [
              "   First  Second  Third\n",
              "0    3.0       4    3.0\n",
              "1    4.0       2    7.0\n",
              "2    2.0       3    8.0\n",
              "3    5.0       1    2.0\n",
              "4    1.0      32   90.0\n",
              "5    NaN       4    NaN"
            ]
          },
          "metadata": {
            "tags": []
          },
          "execution_count": 4
        }
      ]
    },
    {
      "cell_type": "markdown",
      "metadata": {
        "id": "QlJ8xaF3kWS8",
        "colab_type": "text"
      },
      "source": [
        "## Manipulation of Data frames"
      ]
    },
    {
      "cell_type": "code",
      "metadata": {
        "id": "fICNqu5LkWh0",
        "colab_type": "code",
        "outputId": "36c71019-f77e-4be8-f110-e0cd7b11986c",
        "colab": {
          "base_uri": "https://localhost:8080/",
          "height": 437
        }
      },
      "source": [
        "# adding an column\n",
        "\n",
        "import pandas as pd\n",
        "\n",
        "# creating dataframe using series\n",
        "\n",
        "s1=pd.Series([3,4,2,5,1])\n",
        "s2=pd.Series([4,2,3,1,32,4])\n",
        "s3=pd.Series([3,7,8,2,90])\n",
        "\n",
        "Data={'First':s1,'Second':s2,'Third':s3}\n",
        "df=pd.DataFrame(Data)\n",
        "print(df)\n",
        "\n",
        "# creating an column with name Fourth\n",
        "# assigning it the new column data\n",
        "df1=df.assign(fourth=[2,6,8,4,90,4])\n",
        "print(\"After adding a column\\n -------------------------------\")\n",
        "print(df1)\n",
        "\n",
        "# inserting column using insert()\n",
        "# column can be added at any location using this\n",
        "df.insert(3,\"Included\",[2,8,9,67,56,87],True)\n",
        "print(\"After inserting a column\\n-------------------------------\")\n",
        "print(df)"
      ],
      "execution_count": 0,
      "outputs": [
        {
          "output_type": "stream",
          "text": [
            "   First  Second  Third\n",
            "0    3.0       4    3.0\n",
            "1    4.0       2    7.0\n",
            "2    2.0       3    8.0\n",
            "3    5.0       1    2.0\n",
            "4    1.0      32   90.0\n",
            "5    NaN       4    NaN\n",
            "After adding a column\n",
            " -------------------------------\n",
            "   First  Second  Third  fourth\n",
            "0    3.0       4    3.0       2\n",
            "1    4.0       2    7.0       6\n",
            "2    2.0       3    8.0       8\n",
            "3    5.0       1    2.0       4\n",
            "4    1.0      32   90.0      90\n",
            "5    NaN       4    NaN       4\n",
            "After inserting a column\n",
            "-------------------------------\n",
            "   First  Second  Third  Included\n",
            "0    3.0       4    3.0         2\n",
            "1    4.0       2    7.0         8\n",
            "2    2.0       3    8.0         9\n",
            "3    5.0       1    2.0        67\n",
            "4    1.0      32   90.0        56\n",
            "5    NaN       4    NaN        87\n"
          ],
          "name": "stdout"
        }
      ]
    },
    {
      "cell_type": "code",
      "metadata": {
        "id": "tVgQuiozzn3N",
        "colab_type": "code",
        "outputId": "03095536-d45c-4db1-ba79-4766197bf6df",
        "colab": {
          "base_uri": "https://localhost:8080/",
          "height": 252
        }
      },
      "source": [
        "# deleting column\n",
        "import pandas as pd\n",
        "\n",
        "Dict1={'a':8,'b':564,'c':34,'d':89,'e':6}\n",
        "Dict2={'a':8,'c':34,'d':89,'e':6}\n",
        "\n",
        "Comb={'First':Dict1,'Second':Dict2}\n",
        "\n",
        "df=pd.DataFrame(Comb)\n",
        "\n",
        "print(df)\n",
        "\n",
        "df=df.drop(columns=[\"First\"])\n",
        "\n",
        "print(\"After removing column\\n---------------------\")\n",
        "\n",
        "print(df)"
      ],
      "execution_count": 0,
      "outputs": [
        {
          "output_type": "stream",
          "text": [
            "   First  Second\n",
            "a      8     8.0\n",
            "b    564     NaN\n",
            "c     34    34.0\n",
            "d     89    89.0\n",
            "e      6     6.0\n",
            "After removing column\n",
            "---------------------\n",
            "   Second\n",
            "a     8.0\n",
            "b     NaN\n",
            "c    34.0\n",
            "d    89.0\n",
            "e     6.0\n"
          ],
          "name": "stdout"
        }
      ]
    },
    {
      "cell_type": "markdown",
      "metadata": {
        "id": "LPYtBvIvRbP4",
        "colab_type": "text"
      },
      "source": [
        "## Accessing elements\n",
        "\n",
        "\n",
        "We can access data of DataFrames in many ways:\n",
        "1. Value\n",
        "\n",
        "2. Columns\n",
        "\n",
        "3. Rows\n",
        "\n",
        "\n"
      ]
    },
    {
      "cell_type": "code",
      "metadata": {
        "id": "H13nwRoGyfl_",
        "colab_type": "code",
        "outputId": "41737488-2515-4d18-9248-58f90f5f6f62",
        "colab": {
          "base_uri": "https://localhost:8080/",
          "height": 269
        }
      },
      "source": [
        "import pandas as pd\n",
        "\n",
        "s1=pd.Series([3,4,2,5,1])\n",
        "s2=pd.Series([4,2,3,1,32,4])\n",
        "s3=pd.Series([3,7,8,2,90])\n",
        "\n",
        "Data={'First':s1,'Second':s2,'Third':s3}\n",
        "df=pd.DataFrame(Data)\n",
        "print(df)\n",
        "\n",
        "# extracting subset\n",
        "print(df.loc[1:3,\"First\":\"Second\"])\n",
        "\n",
        "# Accessing element by value\n",
        "# used when row and column are known\n",
        "print(\"\\nElements of row 3 are:\")\n",
        "print(df.loc[[3]])"
      ],
      "execution_count": 0,
      "outputs": [
        {
          "output_type": "stream",
          "text": [
            "   First  Second  Third\n",
            "0    3.0       4    3.0\n",
            "1    4.0       2    7.0\n",
            "2    2.0       3    8.0\n",
            "3    5.0       1    2.0\n",
            "4    1.0      32   90.0\n",
            "5    NaN       4    NaN\n",
            "   First  Second\n",
            "1    4.0       2\n",
            "2    2.0       3\n",
            "3    5.0       1\n",
            "\n",
            "Elements of row 3 are:\n",
            "   First  Second  Third\n",
            "3    5.0       1    2.0\n"
          ],
          "name": "stdout"
        }
      ]
    },
    {
      "cell_type": "markdown",
      "metadata": {
        "id": "56H0QruMf_s8",
        "colab_type": "text"
      },
      "source": [
        "## **Matplotlib**\n",
        "\n",
        "\n",
        "---\n",
        "\n",
        "\n",
        "\n",
        "---\n",
        "\n",
        "\n",
        "Matplotlib is a visualization library in Python for 2D plots of arrays.\n",
        "\n",
        "pip command for insatllation:\n",
        "\n",
        "\n",
        "```\n",
        "python -mpip install -U matplotlib\n",
        "```\n",
        "\n",
        "\n"
      ]
    },
    {
      "cell_type": "code",
      "metadata": {
        "id": "caqVC0amf_8o",
        "colab_type": "code",
        "outputId": "60389cd3-1eaa-4536-9026-9cbf91bd62d4",
        "colab": {
          "base_uri": "https://localhost:8080/",
          "height": 380
        }
      },
      "source": [
        "import matplotlib.pyplot as plt\n",
        "import pandas as pd\n",
        "\n",
        "# importing an .csv file\n",
        "\n",
        "Dict1={'a':8,'b':564,'c':34,'d':89,'e':6}\n",
        "Dict2={'a':8,'c':34,'d':89,'e':6}\n",
        "\n",
        "Comb={'Height':Dict1,'Width':Dict2}\n",
        "\n",
        "df=pd.DataFrame(Comb)\n",
        "print(df)\n",
        "\n",
        "x=df[\"Height\"]\n",
        "y=df[\"Width\"]\n",
        "\n",
        "# plotting plot considering First as x-axis \n",
        "# and Second as y-axis\n",
        "plt.scatter(x, y, color= \"m\", marker= \"o\", s=30)\n",
        "\n",
        "plt.xlabel(\"Height\")\n",
        "plt.ylabel(\"Width\")\n",
        "\n",
        "plt.show()"
      ],
      "execution_count": 2,
      "outputs": [
        {
          "output_type": "stream",
          "text": [
            "   Height  Width\n",
            "a       8    8.0\n",
            "b     564    NaN\n",
            "c      34   34.0\n",
            "d      89   89.0\n",
            "e       6    6.0\n"
          ],
          "name": "stdout"
        },
        {
          "output_type": "display_data",
          "data": {
            "image/png": "[encoded data removed]",
            "text/plain": [
              "<Figure size 432x288 with 1 Axes>"
            ]
          },
          "metadata": {
            "tags": [],
            "needs_background": "light"
          }
        }
      ]
    },
    {
      "cell_type": "code",
      "metadata": {
        "id": "olkcQ-ZYipT6",
        "colab_type": "code",
        "colab": {
          "base_uri": "https://localhost:8080/",
          "height": 279
        },
        "outputId": "97e47407-c74e-46ce-9ecd-399cb29eb304"
      },
      "source": [
        "import pandas as pd\n",
        "import matplotlib.pyplot as plt\n",
        "\n",
        "year = pd.Series([1920,1930,1940,1950,1960,1970,1980,1990,2000,2010])\n",
        "rate = pd.Series([9.8,12,8,7.2,6.9,7,6.5,6.2,5.5,6.3])\n",
        "Data = {'Year':year,'Unemployment_Rate':rate}\n",
        "\n",
        "df = pd.DataFrame(Data)\n",
        "\n",
        "\n",
        "df.plot(x='Year',y='Unemployment_Rate',kind='line')\n",
        "plt.show()"
      ],
      "execution_count": 4,
      "outputs": [
        {
          "output_type": "display_data",
          "data": {
            "image/png": "[encoded data removed]",
            "text/plain": [
              "<Figure size 432x288 with 1 Axes>"
            ]
          },
          "metadata": {
            "tags": [],
            "needs_background": "light"
          }
        }
      ]
    }
  ]
}