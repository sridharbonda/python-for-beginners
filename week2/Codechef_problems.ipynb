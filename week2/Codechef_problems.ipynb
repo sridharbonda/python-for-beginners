{
  "nbformat": 4,
  "nbformat_minor": 0,
  "metadata": {
    "colab": {
      "name": "Codechef problems",
      "provenance": [],
      "collapsed_sections": []
    },
    "kernelspec": {
      "name": "python3",
      "display_name": "Python 3"
    }
  },
  "cells": [
    {
      "cell_type": "markdown",
      "metadata": {
        "id": "zW42sr-mtrw8",
        "colab_type": "text"
      },
      "source": [
        "## **COVID Pandemic and Long Queue**\n",
        "\n",
        "problem code:COVIDLQ"
      ]
    },
    {
      "cell_type": "code",
      "metadata": {
        "id": "ynzMoJv3MGBX",
        "colab_type": "code",
        "outputId": "17291e41-be84-4e39-89cc-42bb1afb8af6",
        "colab": {
          "base_uri": "https://localhost:8080/",
          "height": 134
        }
      },
      "source": [
        "t=int(input())\n",
        "\n",
        "for i in range(t):\n",
        "\n",
        "    n=int(input())\n",
        "    a = list(map(int,input().strip().split()))\n",
        "    b = list()\n",
        "\n",
        "    flag=0\n",
        "    for i in range(n):\n",
        "      if(a[i]==1):\n",
        "        b.append(i)\n",
        "\n",
        "    \n",
        "    for i in range(len(b)-1):\n",
        "      if(abs(b[i]-b[i+1])<6):\n",
        "        flag=flag+1\n",
        "\n",
        "    if(flag!=0):\n",
        "      print(\"NO\")\n",
        "    else:\n",
        "      print(\"YES\")\n",
        "    \n",
        "\n",
        "\n"
      ],
      "execution_count": 0,
      "outputs": [
        {
          "output_type": "stream",
          "text": [
            "2\n",
            "7\n",
            "1 0 0 0 0 0 1\n",
            "YES\n",
            "10\n",
            "1 0 0 0 1 0 1 0 0 0\n",
            "NO\n"
          ],
          "name": "stdout"
        }
      ]
    },
    {
      "cell_type": "markdown",
      "metadata": {
        "id": "1te5g2FLegNG",
        "colab_type": "text"
      },
      "source": [
        "## **TRUTH OR DARE**\n",
        "\n",
        "problem code: TRUEDARE"
      ]
    },
    {
      "cell_type": "code",
      "metadata": {
        "id": "ZodPxNpbuNre",
        "colab_type": "code",
        "outputId": "042958c9-4a31-4f92-d1d9-3944596f088a",
        "colab": {
          "base_uri": "https://localhost:8080/",
          "height": 185
        }
      },
      "source": [
        "t=int(input())\n",
        "for i in range(t):\n",
        "   \n",
        "   tr=int(input())\n",
        "   Tr=set(map(int,input().strip().split()))\n",
        "\n",
        "   dr=int(input())\n",
        "   Dr=set(map(int,input().strip().split()))\n",
        "\n",
        "   ts=int(input())\n",
        "   Ts=set(map(int,input().strip().split()))\n",
        "\n",
        "   ds=int(input())\n",
        "   Ds=set(map(int,input().strip().split()))\n",
        " \n",
        "   if((Tr.issuperset(Ts)==1) and (Dr.issuperset(Ds)==1)):\n",
        "      \n",
        "      \n",
        "      print(\"yes\")\n",
        "  \n",
        "   else:\n",
        "      print(\"no\")\n",
        "\n"
      ],
      "execution_count": 0,
      "outputs": [
        {
          "output_type": "stream",
          "text": [
            "1\n",
            "2\n",
            "4 5\n",
            "3\n",
            "4 6 7\n",
            "1\n",
            "5\n",
            "2\n",
            "6 7\n",
            "yes\n"
          ],
          "name": "stdout"
        }
      ]
    },
    {
      "cell_type": "markdown",
      "metadata": {
        "id": "5tgFoGyX4Qlt",
        "colab_type": "text"
      },
      "source": [
        "## **Workers**\n",
        "\n",
        "Problem code: CHEFWORK"
      ]
    },
    {
      "cell_type": "code",
      "metadata": {
        "id": "kzCwCc6w4Q2V",
        "colab_type": "code",
        "outputId": "ef3a4bb5-2bda-441d-f07f-c310b4a7e674",
        "colab": {
          "base_uri": "https://localhost:8080/",
          "height": 84
        }
      },
      "source": [
        "n=int(input())\n",
        "\n",
        "C=list(map(int,input().strip().split()))\n",
        "\n",
        "T=list(map(int,input().strip().split()))\n",
        "\n",
        "C1=[]\n",
        "C2=[]\n",
        "C3=[]\n",
        "\n",
        "for i in range(n):\n",
        "  if(T[i]==1):\n",
        "    C1.append(C[i])\n",
        "  elif(T[i]==2):\n",
        "    C2.append(C[i])\n",
        "  elif(T[i]==3):\n",
        "    C3.append(C[i])\n",
        "\n",
        "if(C1==[] and C2==[] and C3!=[]):\n",
        "  print(min(C3))\n",
        "\n",
        "elif(C1!=[] and C2!=[] and C3!=[]):\n",
        "  k=min(C1)+min(C2)\n",
        "  p=min(C3)\n",
        "  if(k>p):\n",
        "    print(p)\n",
        "  else:\n",
        "    print(k)\n",
        "\n",
        "elif(C1!=[] and C2!=[] and C3==[]):\n",
        "  print(min(C1)+min(C2))\n",
        "\n",
        "else:\n",
        "    print(min(C3))\n",
        "\n",
        "\n",
        "\n",
        "\n",
        "\n"
      ],
      "execution_count": 0,
      "outputs": [
        {
          "output_type": "stream",
          "text": [
            "4\n",
            "1 3 4 2\n",
            "1 3 2 1\n",
            "3\n"
          ],
          "name": "stdout"
        }
      ]
    },
    {
      "cell_type": "markdown",
      "metadata": {
        "id": "J9ZhCUiNzkvh",
        "colab_type": "text"
      },
      "source": [
        "## **Making a meal**\n",
        "\n",
        "program code: CFMM"
      ]
    },
    {
      "cell_type": "code",
      "metadata": {
        "id": "iWvL1m7nzk_n",
        "colab_type": "code",
        "outputId": "bdd802fe-1064-4f77-a85e-122f95b18b43",
        "colab": {
          "base_uri": "https://localhost:8080/",
          "height": 118
        }
      },
      "source": [
        "t=int(input())\n",
        "\n",
        "for i in range(t):\n",
        "  n=int(input())\n",
        "  a=[]\n",
        "  b=''\n",
        "  for x in range(n):\n",
        "    ingre=str(input())\n",
        "    a.append(ingre) \n",
        "  b=b.join(a)\n",
        "\n",
        "  a1=b.count(\"c\")//2\n",
        "  a2=b.count(\"o\")\n",
        "  a3=b.count(\"d\")\n",
        "  a4=b.count(\"e\")//2\n",
        "  a5=b.count(\"h\")\n",
        "  a6=b.count(\"f\")\n",
        "  couldrom=[a1,a2,a3,a4,a5,a6]\n",
        "  print(min(couldrom))\n",
        "  \n",
        "\n",
        "  \n",
        "  \n"
      ],
      "execution_count": 0,
      "outputs": [
        {
          "output_type": "stream",
          "text": [
            "1\n",
            "3\n",
            "codechef\n",
            "cefdchef\n",
            "codecode\n",
            "2\n"
          ],
          "name": "stdout"
        }
      ]
    },
    {
      "cell_type": "markdown",
      "metadata": {
        "id": "5RohRxoffFP2",
        "colab_type": "text"
      },
      "source": [
        "## **Lift requests**\n",
        "\n",
        "Problem code: LIFTME"
      ]
    },
    {
      "cell_type": "code",
      "metadata": {
        "id": "bNdkp16E4Srh",
        "colab_type": "code",
        "outputId": "95c99e49-4ed8-4e88-b1a3-8aaf98507801",
        "colab": {
          "base_uri": "https://localhost:8080/",
          "height": 151
        }
      },
      "source": [
        "t=int(input())\n",
        "\n",
        "for i in range(t):\n",
        "  \n",
        "  b=[]\n",
        "  flo_req=list(map(int,input().strip().split()))\n",
        "  N=flo_req[0]\n",
        "  Q=flo_req[1]\n",
        "\n",
        "  f=0\n",
        "  c=0\n",
        "  for i in range(Q):\n",
        "    x,y=(list(map(int,input().strip().split())))\n",
        "    f+=abs(c-x)+abs(x-y)\n",
        "    c=y\n",
        "  \n",
        "  print(f)\n",
        "  \n",
        "    \n",
        "\n",
        "\n",
        "  \n",
        "\n",
        "\n",
        "\n"
      ],
      "execution_count": 3,
      "outputs": [
        {
          "output_type": "stream",
          "text": [
            "1\n",
            "4 5\n",
            "2 3\n",
            "1 2\n",
            "4 2\n",
            "3 0\n",
            "4 1\n",
            "21\n"
          ],
          "name": "stdout"
        }
      ]
    },
    {
      "cell_type": "markdown",
      "metadata": {
        "id": "anFZ_fcxVRY8",
        "colab_type": "text"
      },
      "source": [
        "## **Guddu on a Date**\n",
        "\n",
        "Problem code: KS2"
      ]
    },
    {
      "cell_type": "code",
      "metadata": {
        "id": "NxnWtfGtVRsK",
        "colab_type": "code",
        "colab": {}
      },
      "source": [
        "def sum(a):\n",
        "  sum=0\n",
        "  r=0\n",
        "  while a>0:\n",
        "    r=a%10\n",
        "    a=a//10\n",
        "    sum=sum+r\n",
        "  \n",
        "  return sum\n",
        "\n",
        "\n",
        "t=int(input())\n",
        "\n",
        "for i in range(t):\n",
        "  n=long(input())\n",
        "  flag=0\n",
        "  x=1\n",
        "  while x>0:\n",
        "    if(sum(x)%10==0):\n",
        "      flag+=1\n",
        "      if(flag==n):\n",
        "        break\n",
        "      \n",
        "    x=x+1 \n",
        "    \n",
        "  print(x)\n",
        "    \n",
        "    "
      ],
      "execution_count": 0,
      "outputs": []
    },
    {
      "cell_type": "markdown",
      "metadata": {
        "id": "sct22AAeidCC",
        "colab_type": "text"
      },
      "source": [
        "## **IPL and RCB**\n",
        "\n",
        "problem code:CLIPLX"
      ]
    },
    {
      "cell_type": "code",
      "metadata": {
        "id": "Ac8qZmHmidQC",
        "colab_type": "code",
        "outputId": "233d79c8-a457-42f1-9e82-ed0c78cd2764",
        "colab": {
          "base_uri": "https://localhost:8080/",
          "height": 67
        }
      },
      "source": [
        "t=int(input())\n",
        "\n",
        "for i in range(t):\n",
        "\n",
        "  seq=list(map(int,input().strip().split()))\n",
        "  X=seq[0]\n",
        "  Y=seq[1]\n",
        "\n",
        "  if(X<=Y):\n",
        "    print(\"0\")\n",
        "  \n",
        "  else:\n",
        "    print(Y-X)\n",
        "  \n",
        "  \n"
      ],
      "execution_count": 0,
      "outputs": [
        {
          "output_type": "stream",
          "text": [
            "1\n",
            "4 5\n",
            "0\n"
          ],
          "name": "stdout"
        }
      ]
    },
    {
      "cell_type": "markdown",
      "metadata": {
        "id": "MGfKg7X94ZuK",
        "colab_type": "text"
      },
      "source": [
        "## **ATM machine**\n",
        "\n",
        "problem code: ATM2"
      ]
    },
    {
      "cell_type": "code",
      "metadata": {
        "id": "M9coQ2W84bkM",
        "colab_type": "code",
        "outputId": "8abd17f8-1d3c-4882-a93b-fea50da3417b",
        "colab": {
          "base_uri": "https://localhost:8080/",
          "height": 134
        }
      },
      "source": [
        "t=int(input())\n",
        "\n",
        "for i in range(t):\n",
        "  Unit=list(map(int,input().strip().split()))\n",
        "  N=Unit[0]\n",
        "  K=Unit[1]\n",
        "  result=\"\"\n",
        "  P=list(map(int,input().strip().split()))\n",
        "  if(len(P)==N):\n",
        "    for i in range(N):\n",
        "      if(P[i]<=K):\n",
        "        print(\"1\",end='')\n",
        "        K=K-P[i]\n",
        "      else:\n",
        "        print(\"0\",end='')\n",
        "  print()\n"
      ],
      "execution_count": 0,
      "outputs": [
        {
          "output_type": "stream",
          "text": [
            "2\n",
            "3 4\n",
            "1 3 1\n",
            "110\n",
            "2 3\n",
            "1 6\n",
            "10\n"
          ],
          "name": "stdout"
        }
      ]
    },
    {
      "cell_type": "markdown",
      "metadata": {
        "id": "7trlJSvvYfuA",
        "colab_type": "text"
      },
      "source": [
        "## **Mahasena**\n",
        "\n",
        "Problem code: AMR15A"
      ]
    },
    {
      "cell_type": "code",
      "metadata": {
        "id": "FpYpGoYHYgBy",
        "colab_type": "code",
        "outputId": "8b8cf2e7-1df5-4b45-a2c3-1fa0caeb7c2d",
        "colab": {
          "base_uri": "https://localhost:8080/",
          "height": 67
        }
      },
      "source": [
        "n=int(input())\n",
        "\n",
        "weapons=list(map(int,input().strip().split()))\n",
        "\n",
        "if len(weapons)==n:\n",
        "  odd=0\n",
        "  even=0\n",
        "  for i in range(n):\n",
        "    if(weapons[i]%2==0):\n",
        "      even+=1\n",
        "    else:\n",
        "      odd+=1\n",
        "    \n",
        "  if(even>odd):\n",
        "    print(\"READY FOR BATTLE\")\n",
        "  else:\n",
        "    print(\"NOT READY\")\n",
        "\n",
        "    \n"
      ],
      "execution_count": 0,
      "outputs": [
        {
          "output_type": "stream",
          "text": [
            "4\n",
            "11 12 13 14\n",
            "NOT READY\n"
          ],
          "name": "stdout"
        }
      ]
    },
    {
      "cell_type": "markdown",
      "metadata": {
        "id": "89yOodMjjcg7",
        "colab_type": "text"
      },
      "source": [
        "## **Cats and Dogs** \n",
        "\n",
        "Problem code: CATSDOGS"
      ]
    },
    {
      "cell_type": "code",
      "metadata": {
        "id": "zQKj8Df0jcyL",
        "colab_type": "code",
        "colab": {}
      },
      "source": [
        "t=int(input())\n",
        "\n",
        "for i in range(t):\n",
        "  C,D,L=list(map(int,input().strip().split()))\n",
        "  CL=C*4\n",
        "  DL=D*4\n",
        "  if(L%4!=0):\n",
        "    print(\"no\")\n",
        "  elif((L>=DL)and(L<=(DL+CL)and(L>(CL-DL)))):\n",
        "    print(\"yes\")\n",
        "  else:\n",
        "    print(\"no\")\n",
        "  \n"
      ],
      "execution_count": 0,
      "outputs": []
    }
  ]
}