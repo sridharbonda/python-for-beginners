{
  "nbformat": 4,
  "nbformat_minor": 0,
  "metadata": {
    "colab": {
      "name": "Sorting algorithms",
      "provenance": []
    },
    "kernelspec": {
      "name": "python3",
      "display_name": "Python 3"
    }
  },
  "cells": [
    {
      "cell_type": "markdown",
      "metadata": {
        "id": "3-BhLWaL7Poe",
        "colab_type": "text"
      },
      "source": [
        "## **Sorting algorithms**\n",
        "\n",
        "Sorting algorithms rearrange a given array,list etc depending upon the operator used for comparison of the elements.\n",
        "\n",
        "---\n",
        "Few types of sorting algorithms:\n",
        "\n",
        "\n",
        "> Bubble Sort\n",
        "\n",
        "> Selection Sort\n",
        "\n",
        "> Insertion Sort\n",
        "\n",
        "> Merge Sort\n",
        "\n",
        "> Heap Sort\n",
        "\n",
        "\n",
        "## Bubble Sort\n",
        "\n",
        "Bubble Sort is the simplest sorting algorithm that works by repeatedly swapping the adjacent elements if they are in wrong order.\n",
        "\n",
        "\n",
        "\n",
        "\n",
        "\n",
        "\n"
      ]
    },
    {
      "cell_type": "code",
      "metadata": {
        "id": "Fv3f0vnj7Bi-",
        "colab_type": "code",
        "outputId": "09978b2b-1042-4863-c106-59b899141904",
        "colab": {
          "base_uri": "https://localhost:8080/",
          "height": 50
        }
      },
      "source": [
        "# importing numpy and matplot libraries\n",
        "import numpy as np\n",
        "\n",
        "\n",
        "def bubbleascen(a):\n",
        "  # rearranging list in asceding order\n",
        "  n=len(a)\n",
        "  for i in range(n):\n",
        "\n",
        "    for j in range(0,n-i-1):\n",
        "      # this condition if the the elmnt is greater than its succeding element\n",
        "      # if the condition is true\n",
        "      # the elements swap each other\n",
        "      if(a[j]>a[j+1]):\n",
        "        t=a[j]\n",
        "        a[j]=a[j+1]\n",
        "        a[j+1]=t\n",
        "        # t here is an any random variable\n",
        "        # it stores the value of Jth element temporarily\n",
        "\n",
        "# creating a list\n",
        "a=[2,4,6,2,1,89,4,34,12]\n",
        "\n",
        "print(\"In ascending order \",a)\n",
        "\n",
        "def descendbubble(a):\n",
        "  n=len(a)\n",
        "  # rearranging list in descending order\n",
        "  for i in range(n):\n",
        "\n",
        "    for j in range(0,n-i-1):\n",
        "      # slight difference in condition\n",
        "      # elements will be swapped if the jth element is greater than j+1th element \n",
        "      if(a[j]<a[j+1]):\n",
        "        t=a[j]\n",
        "        a[j]=a[j+1]\n",
        "        a[j+1]=t\n",
        "\n",
        "descendbubble(a)\n",
        "\n",
        "print(\"In descending order \",a)\n",
        "\n",
        "#-------------------sorted randomly generated list----------------------\n",
        "\n",
        "n=10**4\n",
        "b=[]\n",
        "for i in range(n):\n",
        "  # used to generate random integer\n",
        "  t=np.random.randint(0,100)\n",
        "  b.append(t)\n",
        "\n",
        "# ascending order for an large randomly generated list\n",
        "bubbleascen(b)\n",
        "\n",
        "  \n",
        "#print(b)\n",
        "# descending order for an large randomly generated list\n",
        "descendbubble(b)\n",
        "\n",
        "#print(b)\n",
        "\n",
        "\n",
        "\n",
        "\n",
        "\n"
      ],
      "execution_count": 8,
      "outputs": [
        {
          "output_type": "stream",
          "text": [
            "In ascending order  [2, 4, 6, 2, 1, 89, 4, 34, 12]\n",
            "In descending order  [89, 34, 12, 6, 4, 4, 2, 2, 1]\n"
          ],
          "name": "stdout"
        }
      ]
    },
    {
      "cell_type": "markdown",
      "metadata": {
        "id": "k0Fu2d1-O7lS",
        "colab_type": "text"
      },
      "source": [
        "## Selection Sort\n",
        "\n",
        "The selection sort algorithm sorts an array by repeatedly finding the minimum element (considering ascending order) from unsorted part and putting it at the beginning. The algorithm maintains two subarrays in a given array.\n",
        "\n",
        "\n",
        "\n",
        "1.    The subarray which is already sorted.\n",
        "2.    Remaining subarray which is unsorted.\n",
        "\n",
        "\n"
      ]
    },
    {
      "cell_type": "code",
      "metadata": {
        "id": "AvBkM_MfO8A5",
        "colab_type": "code",
        "outputId": "6bd2e19e-4369-4592-eaf1-4bdb551d3f31",
        "colab": {
          "base_uri": "https://localhost:8080/",
          "height": 34
        }
      },
      "source": [
        "import numpy as np\n",
        "\n",
        "def selectsort(a):\n",
        "  for i in range(len(a)):\n",
        "\n",
        "    min=i\n",
        "    for j in range(i+1,len(a)):\n",
        "      # finding minimum element \n",
        "      # from unsorted\n",
        "      if(a[min]>a[j]):\n",
        "        min=j\n",
        "\n",
        "    # swapping minimum value element with i th element\n",
        "    t=a[min]\n",
        "    a[min]=a[i]\n",
        "    a[i]=t\n",
        "\n",
        "a=[1,9,78,65,76,32,91,87]\n",
        "# calling the function\n",
        "selectsort(a)\n",
        "print(a)\n",
        "\n",
        "#-------------------sorted randomly generated list----------------------\n",
        "n=10**4\n",
        "b=[]\n",
        "for i in range(n):\n",
        "  # used to generate random integer\n",
        "  t=np.random.randint(0,100)\n",
        "  b.append(t)\n",
        "\n",
        "selectsort(b)\n",
        "\n",
        "#print(b)\n",
        "\n"
      ],
      "execution_count": 7,
      "outputs": [
        {
          "output_type": "stream",
          "text": [
            "[1, 9, 32, 65, 76, 78, 87, 91]\n"
          ],
          "name": "stdout"
        }
      ]
    },
    {
      "cell_type": "markdown",
      "metadata": {
        "id": "WI_UcwQc6RA3",
        "colab_type": "text"
      },
      "source": [
        "## Insertion Sort\n",
        "\n",
        "Insertion sort is a simple sorting algorithm that works the way we sort playing cards in our hands.\n",
        "\n"
      ]
    },
    {
      "cell_type": "code",
      "metadata": {
        "id": "ZIVe-JXE6RVA",
        "colab_type": "code",
        "outputId": "e8c62d62-38c7-424e-e3e3-413ebed00b9d",
        "colab": {
          "base_uri": "https://localhost:8080/",
          "height": 34
        }
      },
      "source": [
        "a=[3,2,4,5,3,5,34,65,12]\n",
        "def insertsort(a):\n",
        "  for i in range(len(a)):\n",
        "    j=i-1\n",
        "    key=a[i]\n",
        "    while(j>=0 and key<a[j]):\n",
        "      a[j+1]=a[j]\n",
        "      j-=1\n",
        "    \n",
        "    a[j+1]=key\n",
        "\n",
        "# calling the function\n",
        "insertsort(a)\n",
        "\n",
        "print(a)\n",
        "\n",
        "#-------------------sorted randomly generated list----------------------\n",
        "n=10**4\n",
        "b=[]\n",
        "for i in range(n):\n",
        "  # used to generate random integer\n",
        "  t=np.random.randint(0,100)\n",
        "  b.append(t)\n",
        "\n",
        "insertsort(b)\n",
        "\n",
        "#print(b)"
      ],
      "execution_count": 6,
      "outputs": [
        {
          "output_type": "stream",
          "text": [
            "[2, 3, 3, 4, 5, 5, 12, 34, 65]\n"
          ],
          "name": "stdout"
        }
      ]
    },
    {
      "cell_type": "markdown",
      "metadata": {
        "id": "BmGAQLJ9G_JD",
        "colab_type": "text"
      },
      "source": [
        "## **Merge Sort**\n",
        "\n",
        " It divides input array in two halves, calls itself for the two halves and then merges the two sorted halves. \n"
      ]
    },
    {
      "cell_type": "code",
      "metadata": {
        "id": "VociJ5Ol1eZ3",
        "colab_type": "code",
        "outputId": "0886e22c-9e34-4f4a-928b-3685bc5e4bcb",
        "colab": {
          "base_uri": "https://localhost:8080/",
          "height": 34
        }
      },
      "source": [
        "import numpy as np\n",
        "def mergesort(arr): \n",
        "  if len(arr) >1: \n",
        "      mid = len(arr)//2 #Finding the mid of the array \n",
        "      L = arr[:mid] # Dividing the array elements  \n",
        "      R = arr[mid:] # into 2 halves \n",
        "  \n",
        "      mergesort(L) # Sorting the first half \n",
        "      mergesort(R) # Sorting the second half \n",
        "  \n",
        "      i = 0\n",
        "      j = 0\n",
        "      k = 0\n",
        "          \n",
        "      # storing data in arrays L[] and R[] \n",
        "      while i < len(L) and j < len(R): \n",
        "          if L[i] < R[j]: \n",
        "              arr[k] = L[i] \n",
        "              i+=1\n",
        "          else: \n",
        "              arr[k] = R[j] \n",
        "              j+=1\n",
        "          k+=1\n",
        "          \n",
        "      # Checking if any element was left \n",
        "      while i < len(L): \n",
        "          arr[k] = L[i] \n",
        "          i+=1\n",
        "          k+=1\n",
        "          \n",
        "      while j < len(R): \n",
        "          arr[k] = R[j] \n",
        "          j+=1\n",
        "          k+=1\n",
        "\n",
        "a=[3,1,45,32,65,67]\n",
        "\n",
        "mergesort(a)\n",
        "print(a)\n",
        "\n",
        "#-------------------sorted randomly generated list----------------------\n",
        "n=10**4\n",
        "b=[]\n",
        "for i in range(n):\n",
        "  # used to generate random integer\n",
        "  t=np.random.randint(0,100)\n",
        "  b.append(t)\n",
        "\n",
        "mergesort(b)\n",
        "#print(b)"
      ],
      "execution_count": 5,
      "outputs": [
        {
          "output_type": "stream",
          "text": [
            "[1, 3, 32, 45, 65, 67]\n"
          ],
          "name": "stdout"
        }
      ]
    }
  ]
}