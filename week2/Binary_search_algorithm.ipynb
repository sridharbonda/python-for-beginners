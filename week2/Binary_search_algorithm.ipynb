{
  "nbformat": 4,
  "nbformat_minor": 0,
  "metadata": {
    "colab": {
      "name": "Binary search algorithm",
      "provenance": []
    },
    "kernelspec": {
      "name": "python3",
      "display_name": "Python 3"
    }
  },
  "cells": [
    {
      "cell_type": "markdown",
      "metadata": {
        "id": "uaxHIOgszkwH",
        "colab_type": "text"
      },
      "source": [
        "## **Binary Search algorithm**\n",
        "\n",
        "It is an algorithm which checks wheather the given number is in the list.\n",
        "To perform this algorithm the list elements must be in ascending order.\n",
        "\n",
        "---\n",
        "## Recursive binary search\n"
      ]
    },
    {
      "cell_type": "code",
      "metadata": {
        "id": "wmT1oZBhzjt7",
        "colab_type": "code",
        "outputId": "d243614e-1cf3-447f-94a2-f86d30030fde",
        "colab": {
          "base_uri": "https://localhost:8080/",
          "height": 50
        }
      },
      "source": [
        "# b is list,l is left most index \n",
        "# r is rightmost index, x is number to be checked\n",
        "def binarysearch(b,l,r,x):\n",
        "  if(r>=l):\n",
        "\n",
        "    mid=l+(r-l)//2\n",
        "\n",
        "    if(b[mid]==x):\n",
        "      return mid\n",
        "    \n",
        "    elif(b[mid]<x):\n",
        "      # if element is in right half\n",
        "      return binarysearch(b,mid+1,r,x)\n",
        "    \n",
        "    else:\n",
        "      # if element is in left haf\n",
        "      return binarysearch(b,l,mid-1,x)\n",
        "    \n",
        "  else:\n",
        "    return -1\n",
        "    \n",
        "# a sorted list\n",
        "a=[1,4,5,7,9,12,76,98,110,123]\n",
        "\n",
        "x=int(input())\n",
        "\n",
        "print(\"position of the element\",binarysearch(a,0,len(a)-1,x))\n",
        "\n",
        "# since 4 is  present in list and it is 2nd in list\n",
        "# output is 1\n",
        "\n",
        "\n"
      ],
      "execution_count": 7,
      "outputs": [
        {
          "output_type": "stream",
          "text": [
            "4\n",
            "position of the element 1\n"
          ],
          "name": "stdout"
        }
      ]
    },
    {
      "cell_type": "markdown",
      "metadata": {
        "id": "zG9Jdd_BHyjk",
        "colab_type": "text"
      },
      "source": [
        "## Iterative binary search "
      ]
    },
    {
      "cell_type": "code",
      "metadata": {
        "id": "2YAhl8kkHyzS",
        "colab_type": "code",
        "outputId": "88676ffe-6e13-47cf-e01d-b327cda1b7de",
        "colab": {
          "base_uri": "https://localhost:8080/",
          "height": 50
        }
      },
      "source": [
        "# b is list,l is left most index \n",
        "# r is rightmost index, x is number to be checked\n",
        "def binarysearch(b,l,r,x):\n",
        "\n",
        "  while (l<=r):\n",
        "    mid=l+(r-l)//2\n",
        "\n",
        "    if(b[mid]==x):\n",
        "      return mid\n",
        "    \n",
        "    elif(b[mid]>x):\n",
        "      r=mid-1\n",
        "    \n",
        "    elif(b[mid]<x):\n",
        "      l=mid+1\n",
        "    \n",
        "  return -1\n",
        "\n",
        "\n",
        "    \n",
        "# a sorted list\n",
        "a=[1,4,5,7,9,12,76,98,110,123]\n",
        "\n",
        "x=int(input())\n",
        "\n",
        "print(\"position of element \",x,\"is\",binarysearch(a,0,len(a)-1,x))"
      ],
      "execution_count": 10,
      "outputs": [
        {
          "output_type": "stream",
          "text": [
            "4\n",
            "position of element  4 is 1\n"
          ],
          "name": "stdout"
        }
      ]
    }
  ]
}