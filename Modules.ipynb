{
  "nbformat": 4,
  "nbformat_minor": 0,
  "metadata": {
    "colab": {
      "name": "Untitled2.ipynb",
      "provenance": [],
      "collapsed_sections": [],
      "authorship_tag": "ABX9TyPdtus49qxjf8XKQxhw8NCT",
      "include_colab_link": true
    },
    "kernelspec": {
      "name": "python3",
      "display_name": "Python 3"
    }
  },
  "cells": [
    {
      "cell_type": "markdown",
      "metadata": {
        "id": "view-in-github",
        "colab_type": "text"
      },
      "source": [
        "<a href=\"https://colab.research.google.com/github/sridharbonda/python-for-beginners/blob/master/Modules.ipynb\" target=\"_parent\"><img src=\"https://colab.research.google.com/assets/colab-badge.svg\" alt=\"Open In Colab\"/></a>"
      ]
    },
    {
      "cell_type": "markdown",
      "metadata": {
        "id": "6sFx7E8LQY2g",
        "colab_type": "text"
      },
      "source": [
        "## **Modules**\n",
        "A module is a Python object with arbitrarily named attributes that you can bind and reference. \n",
        "\n",
        "Module is  a file that containes all functions related to the application.\n",
        "\n",
        "\n",
        "## **Creating a module**\n",
        "\n",
        "\n"
      ]
    },
    {
      "cell_type": "code",
      "metadata": {
        "id": "CK-I2Xa5QWG6",
        "colab_type": "code",
        "colab": {}
      },
      "source": [
        "# creating a module\n",
        "# save this file with name myage.py\n",
        "def age(x):\n",
        "  print(\"age is\",x)\n",
        "\n",
        "# import statement is used to import the module\n",
        "# Import the module named myage, and call the greeting function:\n",
        "\n",
        "import myage\n",
        "myage.age(19)"
      ],
      "execution_count": 0,
      "outputs": []
    },
    {
      "cell_type": "markdown",
      "metadata": {
        "id": "z73OYcW5YbK1",
        "colab_type": "text"
      },
      "source": [
        "# **Downloading an external module(library)**\n",
        "\n"
      ]
    },
    {
      "cell_type": "code",
      "metadata": {
        "id": "3NSfChOqbxeR",
        "colab_type": "code",
        "colab": {
          "base_uri": "https://localhost:8080/",
          "height": 34
        },
        "outputId": "28b6625c-1ab6-4168-b276-44c6d5024f1c"
      },
      "source": [
        "# command to check the version of pip\n",
        "pip --version"
      ],
      "execution_count": 6,
      "outputs": [
        {
          "output_type": "stream",
          "text": [
            "pip 19.3.1 from /usr/local/lib/python3.6/dist-packages/pip (python 3.6)\n"
          ],
          "name": "stdout"
        }
      ]
    },
    {
      "cell_type": "code",
      "metadata": {
        "id": "m5bf5a5IajBX",
        "colab_type": "code",
        "colab": {
          "base_uri": "https://localhost:8080/",
          "height": 228
        },
        "outputId": "5e9267b8-f0c0-433e-d3b5-83a79501ea7f"
      },
      "source": [
        "# uninstall command is used to remove a package\n",
        "pip uninstall numpy"
      ],
      "execution_count": 4,
      "outputs": [
        {
          "output_type": "stream",
          "text": [
            "Uninstalling numpy-1.18.2:\n",
            "  Would remove:\n",
            "    /usr/bin/f2py\n",
            "    /usr/bin/f2py3\n",
            "    /usr/bin/f2py3.6\n",
            "    /usr/local/bin/f2py\n",
            "    /usr/local/bin/f2py3\n",
            "    /usr/local/bin/f2py3.6\n",
            "    /usr/local/lib/python3.6/dist-packages/numpy-1.18.2.dist-info/*\n",
            "    /usr/local/lib/python3.6/dist-packages/numpy/*\n",
            "Proceed (y/n)? y\n",
            "  Successfully uninstalled numpy-1.18.2\n"
          ],
          "name": "stdout"
        }
      ]
    },
    {
      "cell_type": "code",
      "metadata": {
        "id": "8E0R5LQxaulm",
        "colab_type": "code",
        "colab": {}
      },
      "source": [
        "# install command is used to install a package\n",
        "pip install numpy"
      ],
      "execution_count": 0,
      "outputs": []
    },
    {
      "cell_type": "markdown",
      "metadata": {
        "id": "YM6k8FxQca-9",
        "colab_type": "text"
      },
      "source": [
        "## **Importing a module**\n",
        "\n"
      ]
    },
    {
      "cell_type": "code",
      "metadata": {
        "id": "UVogHowNcbVr",
        "colab_type": "code",
        "colab": {}
      },
      "source": [
        "#import command used to import the package\n",
        "import package_name\n"
      ],
      "execution_count": 0,
      "outputs": []
    },
    {
      "cell_type": "markdown",
      "metadata": {
        "id": "v47CPq4IdnBU",
        "colab_type": "text"
      },
      "source": [
        "**numpy library**\n",
        "\n",
        "It is the core library for scientific computing, which contains a powerful n-dimensional array object"
      ]
    },
    {
      "cell_type": "code",
      "metadata": {
        "id": "hsjjlTgndmwv",
        "colab_type": "code",
        "colab": {
          "base_uri": "https://localhost:8080/",
          "height": 34
        },
        "outputId": "5501e22a-9e6f-4c56-b7b9-c9a1b8561281"
      },
      "source": [
        "# import numpy module\n",
        "# creating an alias for numpy module as np keyword\n",
        "import numpy as np\n",
        "\n",
        "x=np.random.randn()\n",
        "print(x)"
      ],
      "execution_count": 4,
      "outputs": [
        {
          "output_type": "stream",
          "text": [
            "0.3066845053118879\n"
          ],
          "name": "stdout"
        }
      ]
    },
    {
      "cell_type": "markdown",
      "metadata": {
        "id": "AmB9U-wkfZ1Z",
        "colab_type": "text"
      },
      "source": [
        "**math module**\n",
        "\n",
        "It contains all the mathematical functions defined by C standards"
      ]
    },
    {
      "cell_type": "code",
      "metadata": {
        "id": "hpvdqwaffaQN",
        "colab_type": "code",
        "colab": {
          "base_uri": "https://localhost:8080/",
          "height": 52
        },
        "outputId": "85577612-3b18-40dd-e652-6fcbe1e981ee"
      },
      "source": [
        "# importing math module\n",
        "import math\n",
        "\n",
        "x= 50.2\n",
        "# returns the smallest integer greater than or equal to x\n",
        "print(math.ceil(x))\n",
        "\n",
        "# returns the greatest integer lesser than or equal to x\n",
        "print(math.floor(x))"
      ],
      "execution_count": 6,
      "outputs": [
        {
          "output_type": "stream",
          "text": [
            "51\n",
            "50\n"
          ],
          "name": "stdout"
        }
      ]
    }
  ]
}