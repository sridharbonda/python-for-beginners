{
  "nbformat": 4,
  "nbformat_minor": 0,
  "metadata": {
    "colab": {
      "name": "Untitled5.ipynb",
      "provenance": [],
      "collapsed_sections": [],
      "authorship_tag": "ABX9TyMx6IZtCUnEaKR1OzQyVwq/",
      "include_colab_link": true
    },
    "kernelspec": {
      "name": "python3",
      "display_name": "Python 3"
    }
  },
  "cells": [
    {
      "cell_type": "markdown",
      "metadata": {
        "id": "view-in-github",
        "colab_type": "text"
      },
      "source": [
        "<a href=\"https://colab.research.google.com/github/sridharbonda/python-for-beginners/blob/master/String%20and%20list%20operations.ipynb\" target=\"_parent\"><img src=\"https://colab.research.google.com/assets/colab-badge.svg\" alt=\"Open In Colab\"/></a>"
      ]
    },
    {
      "cell_type": "markdown",
      "metadata": {
        "id": "n1ddlwmIfPgU",
        "colab_type": "text"
      },
      "source": [
        "## **Lists Operations**\n",
        "\n",
        "Append()\t\n",
        "\n",
        "\n",
        "> Add an element to the end of the list\n",
        "\n",
        "\n",
        "Extend()\t\n",
        "\n",
        "> Add all elements of a list to the another list\n",
        "\n",
        "\n",
        "Insert()\n",
        "\n",
        "\n",
        ">Insert an item at the defined index\n",
        "\n",
        "\n",
        "Remove()\n",
        "\n",
        ">Removes an item from the list\n",
        "\n",
        "\n",
        "Pop()\n",
        "\n",
        "\n",
        ">Removes and returns an element at the given index\n",
        "\n",
        "Index()\t\n",
        "\n",
        "\n",
        "\n",
        ">Returns the index of the first matched item\n",
        "\n",
        "\n",
        "Count()\t\n",
        "\n",
        "\n",
        "> Returns the count of number of items passed as an argument\n",
        "\n",
        "\n",
        "Sort()\n",
        "\n",
        "> Sort items in a list in ascending order\n",
        "\n",
        "split()\n",
        "\n",
        "\n",
        "> The split() method splits a string into a list\n",
        "\n",
        "join()\n",
        "\n",
        "\n",
        "\n",
        ">The split() method splits a string into a list\n",
        "\n",
        "\n",
        "\n",
        "\n"
      ]
    },
    {
      "cell_type": "code",
      "metadata": {
        "id": "6seF78VzfOAk",
        "colab_type": "code",
        "colab": {
          "base_uri": "https://localhost:8080/",
          "height": 87
        },
        "outputId": "9353c026-9f0d-42b1-f16d-a83668351d7f"
      },
      "source": [
        "# creating a list\n",
        "l1=[i for i in \"TEST\"]\n",
        "print(l1)\n",
        "cities=\"mumbai,delhi,hyderabad,pune\"\n",
        "\n",
        "# converting string into a list\n",
        "# The split() method splits a string into a list\n",
        "l2=cities.split(\",\")\n",
        "print(l2)\n",
        "\n",
        "#join() method is a string method and returns a string \n",
        "#elements of sequence have been joined by str separator.\n",
        "Org_string=','.join(l2)#converting list into string\n",
        "print(Org_string)\n",
        "\n",
        "# sorting the list\n",
        "l1.sort()\n",
        "print(l1)\n",
        "\n"
      ],
      "execution_count": 6,
      "outputs": [
        {
          "output_type": "stream",
          "text": [
            "['T', 'E', 'S', 'T']\n",
            "['mumbai', 'delhi', 'hyderabad', 'pune']\n",
            "mumbai,delhi,hyderabad,pune\n",
            "['E', 'S', 'T', 'T']\n"
          ],
          "name": "stdout"
        }
      ]
    },
    {
      "cell_type": "markdown",
      "metadata": {
        "id": "AmaY1hJbw_ht",
        "colab_type": "text"
      },
      "source": [
        "## **String manipulations**\n",
        "\n",
        "Strings in Python are arrays of bytes representing unicode characters.\n",
        "\n",
        "---\n",
        "\n",
        "\n",
        "\n",
        "To manipulate strings, we can use some of Pythons built-in methods\n",
        "\n",
        "len() function is used to get the length of a string\n",
        "\n"
      ]
    },
    {
      "cell_type": "code",
      "metadata": {
        "id": "2gbktop_w_v8",
        "colab_type": "code",
        "colab": {
          "base_uri": "https://localhost:8080/",
          "height": 70
        },
        "outputId": "21ff1978-8237-4534-d93e-210b2fe78ddd"
      },
      "source": [
        "# assigning a string to variable\n",
        "a= \"Lets do string manipulations\"\n",
        "\n",
        "# to get character at position 5\n",
        "print(\"character at position 5 is\",a[5])\n",
        "\n",
        "# finding length of string\n",
        "print(\"Length of string a is\",len(a))\n",
        "\n",
        "# negative indexing to access last element\n",
        "print(\"Last character of string a is\",a[-1])\n"
      ],
      "execution_count": 11,
      "outputs": [
        {
          "output_type": "stream",
          "text": [
            "character at position 5 is d\n",
            "Length of string a is 28\n",
            "Last character of string a is s\n"
          ],
          "name": "stdout"
        }
      ]
    },
    {
      "cell_type": "markdown",
      "metadata": {
        "id": "ifCMbDauzrhy",
        "colab_type": "text"
      },
      "source": [
        "## Slicing\n",
        "\n",
        "You can return range of characters by using the slice syntax.\n",
        "\n",
        "Specify the start index and the end index, separated by a colon, to return a part of the string.\n",
        "\n",
        "## String Methods\n",
        "\n",
        "strip()\n",
        "\n",
        "\n",
        "> removes any whitespace from the start and end of a string\n",
        "\n",
        "lower()\n",
        "\n",
        "\n",
        "\n",
        "> returns the string in lowercase\n",
        "\n",
        "upper()\n",
        "\n",
        "\n",
        "> returns the string in uppercase\n",
        "\n",
        "replace()\n",
        "\n",
        "\n",
        "\n",
        "> replaces a specific character with another character\n",
        "\n",
        "split()\n",
        "\n",
        "\n",
        "\n",
        "> splits the string into substrings\n",
        "\n",
        "\n",
        "\n",
        "\n",
        "\n",
        "\n",
        "\n",
        "\n",
        "\n",
        "\n",
        "\n",
        "\n",
        "\n",
        "\n",
        "\n",
        "\n",
        "\n",
        "\n",
        "\n",
        "\n"
      ]
    },
    {
      "cell_type": "code",
      "metadata": {
        "id": "qCzeE3mfzryn",
        "colab_type": "code",
        "colab": {
          "base_uri": "https://localhost:8080/",
          "height": 122
        },
        "outputId": "bf43968d-b00c-4416-d7ad-d575e6365a91"
      },
      "source": [
        "txt=\"    Lockdown is Extended till 3rd may\"\n",
        "print(\"Original string is\",txt)\n",
        "\n",
        "# converting string into lowercase\n",
        "print(txt.lower())\n",
        "\n",
        "# converting string into uppercase\n",
        "print(txt.upper())\n",
        "\n",
        "# spliting the string \n",
        "list1=txt.split(\" \")\n",
        "print(list1)\n",
        "\n",
        "# removing whitespaces\n",
        "print(txt.strip())\n",
        "\n",
        "# slicing of string\n",
        "txt2=txt[0:7]\n",
        "print(txt2)\n",
        "\n"
      ],
      "execution_count": 19,
      "outputs": [
        {
          "output_type": "stream",
          "text": [
            "Original string is     Lockdown is Extended till 3rd may\n",
            "    lockdown is extended till 3rd may\n",
            "    LOCKDOWN IS EXTENDED TILL 3RD MAY\n",
            "['', '', '', '', 'Lockdown', 'is', 'Extended', 'till', '3rd', 'may']\n",
            "Lockdown is Extended till 3rd may\n",
            "    Loc\n"
          ],
          "name": "stdout"
        }
      ]
    }
  ]
}