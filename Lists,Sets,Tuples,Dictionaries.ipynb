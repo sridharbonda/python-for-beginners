{
  "nbformat": 4,
  "nbformat_minor": 0,
  "metadata": {
    "colab": {
      "name": "Untitled3.ipynb",
      "provenance": [],
      "collapsed_sections": [],
      "authorship_tag": "ABX9TyOhQ9RjYnFl7HpGvS1U/qvy",
      "include_colab_link": true
    },
    "kernelspec": {
      "name": "python3",
      "display_name": "Python 3"
    }
  },
  "cells": [
    {
      "cell_type": "markdown",
      "metadata": {
        "id": "view-in-github",
        "colab_type": "text"
      },
      "source": [
        "<a href=\"https://colab.research.google.com/github/sridharbonda/python-for-beginners/blob/master/Lists%2CSets%2CTuples%2CDictionaries.ipynb\" target=\"_parent\"><img src=\"https://colab.research.google.com/assets/colab-badge.svg\" alt=\"Open In Colab\"/></a>"
      ]
    },
    {
      "cell_type": "markdown",
      "metadata": {
        "id": "LcGx55I1k2Pq",
        "colab_type": "text"
      },
      "source": [
        "## **LISTS**\n",
        "\n",
        "\n",
        "\n",
        "\n",
        "\n",
        "List is a collection of elements of same or different datatypes.\n",
        "\n",
        "---\n",
        "\n",
        "\n",
        "\n",
        "A list is mutable i.e., elements can be added or removed or changed\n",
        "\n",
        "\n",
        "\n"
      ]
    },
    {
      "cell_type": "code",
      "metadata": {
        "id": "DGDEZKfHh2VN",
        "colab_type": "code",
        "colab": {
          "base_uri": "https://localhost:8080/",
          "height": 87
        },
        "outputId": "30d134dc-1b60-4c2d-87da-7df32130d603"
      },
      "source": [
        "# creating a list\n",
        "list1=[2,6,5,4]\n",
        "\n",
        "# printing a list\n",
        "print(list1)\n",
        "\n",
        "# accesing last element\n",
        "print(list1[-1])\n",
        "\n",
        "# accesing first element\n",
        "print(list1[0])\n",
        "\n",
        "# changing value of item\n",
        "# changing value of second item\n",
        "list1[1]=-78\n",
        "print(list1)"
      ],
      "execution_count": 5,
      "outputs": [
        {
          "output_type": "stream",
          "text": [
            "[2, 6, 5, 4]\n",
            "4\n",
            "2\n",
            "[2, -78, 5, 4]\n"
          ],
          "name": "stdout"
        }
      ]
    },
    {
      "cell_type": "markdown",
      "metadata": {
        "id": "TR5hT3qkk2MJ",
        "colab_type": "text"
      },
      "source": [
        "## **List Manipulations**\n",
        "\n",
        "\n",
        "\n",
        "\n",
        "append()\n",
        "> It is used to add new element to the list at the end.\n",
        "\n",
        "\n",
        "\n",
        "insert()\n",
        "> Using this method a new item can be added at a specified position.\n",
        "\n",
        "\n",
        "\n",
        "remove()\n",
        "> It is used to remove the specific item from the list.\n",
        "\n",
        "\n",
        "\n",
        "clear()\n",
        "\n",
        "> It empties the list.\n",
        "\n",
        "\n",
        "\n",
        "\n",
        "\n",
        "\n"
      ]
    },
    {
      "cell_type": "code",
      "metadata": {
        "id": "vzdlKA2rmpEU",
        "colab_type": "code",
        "colab": {
          "base_uri": "https://localhost:8080/",
          "height": 87
        },
        "outputId": "38da99b4-93cd-413b-bfa5-34b1fe88102e"
      },
      "source": [
        "list1=[2,8,6,0,16]\n",
        "list2=[\"mumbai\",\"chennai\",\"Delhi\",\"Jaipur\",\"Pune\"]\n",
        "\n",
        "# inserting new item at the end\n",
        "list1.append(\"numbers\")\n",
        "print(list1)\n",
        "\n",
        "# inserting new item \n",
        "list1.insert(1,\"inserted\")\n",
        "print(list1)\n",
        "\n",
        "# removing item\n",
        "list2.remove(\"Delhi\")\n",
        "print(list2)\n",
        "\n",
        "# clearing the list\n",
        "list2.clear()\n",
        "print(list2)\n"
      ],
      "execution_count": 9,
      "outputs": [
        {
          "output_type": "stream",
          "text": [
            "[2, 8, 6, 0, 16, 'numbers']\n",
            "[2, 'inserted', 8, 6, 0, 16, 'numbers']\n",
            "['mumbai', 'chennai', 'Jaipur', 'Pune']\n",
            "[]\n"
          ],
          "name": "stdout"
        }
      ]
    },
    {
      "cell_type": "markdown",
      "metadata": {
        "id": "3nu6rNMLrlon",
        "colab_type": "text"
      },
      "source": [
        "# **Slicing of list** \n",
        "\n",
        "\n",
        "\n",
        "\n"
      ]
    },
    {
      "cell_type": "code",
      "metadata": {
        "id": "CWTkzCjgtf5G",
        "colab_type": "code",
        "colab": {
          "base_uri": "https://localhost:8080/",
          "height": 70
        },
        "outputId": "e0f887d0-c9f1-4daf-f709-2cd2fbead0ad"
      },
      "source": [
        "# creating a list\n",
        "# string \"TEST\" is splited and each element repeating thrice \n",
        "# becomes the element of the list1 \n",
        "list1=[i*3 for i in \"TESTIFY\"]\n",
        "print(list1)\n",
        "\n",
        "# empty list\n",
        "list2=[]\n",
        "list3=[]\n",
        "\n",
        "# segmented list containing first 3 elements\n",
        "list2=list1[:3]\n",
        "print(list2)\n",
        "\n",
        "# segmented list containing second to second last element\n",
        "list3=list1[1:-1]\n",
        "print(list3)"
      ],
      "execution_count": 15,
      "outputs": [
        {
          "output_type": "stream",
          "text": [
            "['TTT', 'EEE', 'SSS', 'TTT', 'III', 'FFF', 'YYY']\n",
            "['TTT', 'EEE', 'SSS']\n",
            "['EEE', 'SSS', 'TTT', 'III', 'FFF']\n"
          ],
          "name": "stdout"
        }
      ]
    },
    {
      "cell_type": "markdown",
      "metadata": {
        "id": "6XDLyWtGwbbE",
        "colab_type": "text"
      },
      "source": [
        "## **TUPLES**\n",
        "\n",
        "Tuples are sequences, just like lists, it is an immutable sequence of Python objects. \n",
        "\n",
        "---\n",
        "\n",
        "\n",
        "\n",
        "The tuples cannot be changed unlike lists i.e., tuples are immutable.\n",
        "\n",
        "Tuples use parentheses, whereas lists use square brackets."
      ]
    },
    {
      "cell_type": "code",
      "metadata": {
        "id": "ozUaEU47wbIF",
        "colab_type": "code",
        "colab": {
          "base_uri": "https://localhost:8080/",
          "height": 70
        },
        "outputId": "add2d965-67a8-4b79-fc8b-924164ebe212"
      },
      "source": [
        "# Creating a tuple\n",
        "tuple1=(1,5,7,23,76,89)\n",
        "print(tuple1)\n",
        "\n",
        "# accessing 3rd item in tuple\n",
        "print(tuple1[2])\n",
        "\n",
        "# accessing last item in tuple\n",
        "# negative indexing\n",
        "print(tuple1[-1])\n",
        "\n"
      ],
      "execution_count": 18,
      "outputs": [
        {
          "output_type": "stream",
          "text": [
            "(1, 5, 7, 23, 76, 89)\n",
            "7\n",
            "89\n"
          ],
          "name": "stdout"
        }
      ]
    },
    {
      "cell_type": "markdown",
      "metadata": {
        "id": "-d7P5e5tz3X0",
        "colab_type": "text"
      },
      "source": [
        "## **Tuple methods**\n",
        "\n",
        "\n",
        "\n",
        "count()\n",
        "> returns number of times a specific value occurs\n",
        "\n",
        "index()\n",
        "\n",
        "\n",
        ">Searches the tuple for a specified value and returns its position\n",
        "\n",
        "\n",
        "\n",
        "\n",
        "\n",
        "\n",
        "\n"
      ]
    },
    {
      "cell_type": "code",
      "metadata": {
        "id": "zJS-mymvz3oT",
        "colab_type": "code",
        "colab": {
          "base_uri": "https://localhost:8080/",
          "height": 87
        },
        "outputId": "b11587f6-060a-4b1c-8281-59c667c6f304"
      },
      "source": [
        "tuple1=(1,5,9,23,7,6,5,8)\n",
        "tuple2=(\"mumbai\",\"delhi\",\"pune\")\n",
        "print(tuple1)\n",
        "\n",
        "# assigning the nuumber of times an specific item repeats\n",
        "x=tuple1.count(5)\n",
        "print(x)\n",
        "\n",
        "# assigning the position of element\n",
        "y=tuple1.index(23)\n",
        "print(y)\n",
        "\n",
        "# to join two tuples + operator is used\n",
        "tuple3 = tuple1 + tuple2\n",
        "print(tuple3)\n"
      ],
      "execution_count": 24,
      "outputs": [
        {
          "output_type": "stream",
          "text": [
            "(1, 5, 9, 23, 7, 6, 5, 8)\n",
            "2\n",
            "3\n",
            "(1, 5, 9, 23, 7, 6, 5, 8, 'mumbai', 'delhi', 'pune')\n"
          ],
          "name": "stdout"
        }
      ]
    },
    {
      "cell_type": "markdown",
      "metadata": {
        "id": "IoD-QjQo3K1q",
        "colab_type": "text"
      },
      "source": [
        "## **SETS** \n",
        "\n",
        "A Set is an unordered collection data type that is iterable, mutable and has no duplicate elements.\n",
        "\n",
        "---\n",
        "It has a highly optimized method for checking whether a specific element is contained in the set.\n",
        "\n",
        "Frozenset\n",
        "\n",
        "\n",
        "> Frozen sets in Python are immutable objects that only support methods and operators that produce a result without affecting the frozen set or sets to which they are applied.\n",
        "\n",
        "\n"
      ]
    },
    {
      "cell_type": "code",
      "metadata": {
        "id": "v9MgylCN3LDX",
        "colab_type": "code",
        "colab": {
          "base_uri": "https://localhost:8080/",
          "height": 52
        },
        "outputId": "902753ee-967e-4cea-bbbb-a4acf048b3d3"
      },
      "source": [
        "# creating a set\n",
        "set1={1,4,5,67,32,76}\n",
        "print(set1)\n",
        "\n",
        "# adding an item at the end of set\n",
        "# using add() method\n",
        "set1.add(23)\n",
        "print(set1)\n",
        "\n",
        "# creating a frozenset\n",
        "set2=frozenset([1,4,\"mumbai\"])\n"
      ],
      "execution_count": 25,
      "outputs": [
        {
          "output_type": "stream",
          "text": [
            "{32, 1, 67, 4, 5, 76}\n",
            "{32, 1, 67, 4, 5, 76, 23}\n"
          ],
          "name": "stdout"
        }
      ]
    },
    {
      "cell_type": "markdown",
      "metadata": {
        "id": "YGdtD_gH71_R",
        "colab_type": "text"
      },
      "source": [
        "## **Methods of Sets**\n",
        "\n",
        "add() or '+'\n",
        "\n",
        "\n",
        "> it is used for insertion of items in list.\n",
        "\n",
        "union() or '|'\n",
        "\n",
        "\n",
        ">used to merge two sets\n",
        "\n",
        "intersection() or '&'\n",
        "\n",
        "\n",
        "> common items from two sets get selected\n",
        "\n",
        "difference() or '-'\n",
        "\n",
        "\n",
        "> to find differene between two sets\n",
        "\n",
        "\n",
        "\n",
        "\n",
        "\n",
        "\n",
        "\n"
      ]
    },
    {
      "cell_type": "code",
      "metadata": {
        "id": "oDGemPTq72MN",
        "colab_type": "code",
        "colab": {
          "base_uri": "https://localhost:8080/",
          "height": 87
        },
        "outputId": "3a9d014f-f976-4b52-d7b7-1bf35706f0fd"
      },
      "source": [
        "set1={1,2,4,5,6}\n",
        "set2={2,67,83,90}\n",
        "set3={i for i in range(5)}\n",
        "\n",
        "# inserting items\n",
        "set1.add(\"mumbai\")\n",
        "print(set1)\n",
        "\n",
        "# merging two sets\n",
        "set4=set1.union(set3)\n",
        "print(set4)\n",
        "\n",
        "# finding common elements\n",
        "set5=set2.intersection(set3)\n",
        "print(set5)\n",
        "\n",
        "# set2-set6\n",
        "set6=set2.difference(set3)\n",
        "print(set6)"
      ],
      "execution_count": 29,
      "outputs": [
        {
          "output_type": "stream",
          "text": [
            "{1, 2, 4, 5, 6, 'mumbai'}\n",
            "{0, 1, 2, 3, 4, 5, 6, 'mumbai'}\n",
            "{2}\n",
            "{67, 83, 90}\n"
          ],
          "name": "stdout"
        }
      ]
    },
    {
      "cell_type": "markdown",
      "metadata": {
        "id": "JDjz75SlAN-J",
        "colab_type": "text"
      },
      "source": [
        "## **Operators in Sets**"
      ]
    },
    {
      "cell_type": "code",
      "metadata": {
        "id": "E9UAxxjy_b7q",
        "colab_type": "code",
        "colab": {
          "base_uri": "https://localhost:8080/",
          "height": 122
        },
        "outputId": "6e07769b-4935-49d0-9753-1ec2d708b891"
      },
      "source": [
        "set1={1,2,4,5,6}\n",
        "set2={2,67,83,90}\n",
        "set3={i for i in range(5)}\n",
        "\n",
        "set1.add(\"mumbai\")\n",
        "print(set1)\n",
        "\n",
        "set4=set1.union(set3)\n",
        "print(set4)\n",
        "\n",
        "set5=set2.intersection(set3)\n",
        "print(set5)\n",
        "\n",
        "set6=set2.difference(set3)\n",
        "print(set6)\n",
        "\n",
        "# Checking relation between set5 and set6 \n",
        "if set5 > set6: # set5.issuperset(set6) \n",
        "  print(\"Set5 is superset of Set6\") \n",
        "elif set5 < set6: # set5.issubset(set6) \n",
        "  print(\"Set5 is subset of Set6\") \n",
        "else : # set5 == set6 \n",
        "  print(\"Set5 is same as Set6\") \n",
        "\n",
        "\n",
        "# check if set1 and set2 are disjoint sets \n",
        "if set1.isdisjoint(set2): \n",
        "  print(\"Set1 and Set2 have nothing in common\") \n",
        "else:\n",
        "  print(\"Set1 and set2 have something in common\")\n",
        "\n",
        "  "
      ],
      "execution_count": 31,
      "outputs": [
        {
          "output_type": "stream",
          "text": [
            "{1, 2, 4, 5, 6, 'mumbai'}\n",
            "{0, 1, 2, 3, 4, 5, 6, 'mumbai'}\n",
            "{2}\n",
            "{67, 83, 90}\n",
            "Set5 is same as Set6\n",
            "Set1 and set2 have something in common\n"
          ],
          "name": "stdout"
        }
      ]
    },
    {
      "cell_type": "markdown",
      "metadata": {
        "id": "CaAxlVdRBKRU",
        "colab_type": "text"
      },
      "source": [
        "## **Dictionaries**\n",
        "\n",
        "Dictionary in Python is an unordered collection of data values, used to store data values like a map,lists,sets etc which unlike other Data Types that hold only single value as an element.\n",
        "\n",
        "---\n",
        "Dictionary keys are case sensitive, same name but different cases of Key will be treated distinctly.\n"
      ]
    },
    {
      "cell_type": "code",
      "metadata": {
        "id": "Qu3YcFNNBKAk",
        "colab_type": "code",
        "colab": {
          "base_uri": "https://localhost:8080/",
          "height": 105
        },
        "outputId": "17de3952-f6ec-4654-dd7f-000d62bfdbd9"
      },
      "source": [
        "# creating a dictionary\n",
        "Dict1={\"name\":\"XYZ\",\"age\":20}\n",
        "print(\"Dictionary Dict1 is\",Dict1)\n",
        "\n",
        "# accessing elements using key\n",
        "print(\"Name as in Dict1 is\",Dict1[\"name\"],\"age is\",Dict1[\"age\"])\n",
        "\n",
        "# accessing elements using get() method\n",
        "print(\"Name as in Dict1 is\",Dict1.get(\"name\"),\"age is\",Dict1.get(\"age\"))\n",
        "\n",
        "# Adding set of values to a single Key \n",
        "Dict1['marks'] = 35,67,87\n",
        "print(Dict1)\n",
        "\n",
        "# removing a value from dictionary\n",
        "del Dict1[\"age\"]\n",
        "print(Dict1)\n",
        "\n",
        "\n",
        "#nested Dictionary\n",
        "Dict={'student1':{\"name\":\"XYZ\",\"age\":20},\n",
        "      'student2':{\"name\":\"Bond\",\"age\":19}}\n",
        "#Accessing element using key from nested dictionaries\n",
        "print(\"Name of student1 is\",Dict[\"student1\"][\"name\"])"
      ],
      "execution_count": 34,
      "outputs": [
        {
          "output_type": "stream",
          "text": [
            "Dictionary Dict1 is {'name': 'XYZ', 'age': 20}\n",
            "Name as in Dict1 is XYZ age is 20\n",
            "Name as in Dict1 is XYZ age is 20\n",
            "{'name': 'XYZ', 'age': 20, 'marks': (35, 67, 87)}\n",
            "{'name': 'XYZ', 'marks': (35, 67, 87)}\n"
          ],
          "name": "stdout"
        }
      ]
    },
    {
      "cell_type": "markdown",
      "metadata": {
        "id": "FBf3MyBxDlTo",
        "colab_type": "text"
      },
      "source": [
        "## **Dictionary methods**\n",
        "\n",
        "pop()\n",
        "\n",
        "\n",
        "> Removes and returns an element from a dictionary having the given key.\n",
        "\n",
        "copy()\n",
        "\n",
        "\n",
        "> It returns a shallow copy of the dictionary.\n",
        "\n",
        "\n",
        "clear()\n",
        "\n",
        "\n",
        "> All the items from a dictionary can be deleted at once\n",
        "\n",
        "\n",
        "\n",
        "\n",
        "\n",
        "\n",
        "\n"
      ]
    },
    {
      "cell_type": "code",
      "metadata": {
        "id": "NiqqsHwrDlAo",
        "colab_type": "code",
        "colab": {
          "base_uri": "https://localhost:8080/",
          "height": 87
        },
        "outputId": "b2a9acfd-2b99-4426-a0fb-6bb07a5fe273"
      },
      "source": [
        "Dict1={\"name\":\"XYZ\",\"age\":20}\n",
        "\n",
        "#nested Dictionary\n",
        "Dict2={'student1':{\"name\":\"XYZ\",\"age\":20},\n",
        "      'student2':{\"name\":\"Bond\",\"age\":19}}\n",
        "\n",
        "pop_ele=Dict1.pop(\"age\")\n",
        "print(\"Dictionary Dict1 after deletion:\",Dict1)\n",
        "print(\"Value associated with poped key is\",pop_ele)\n",
        "\n",
        "# copying Dict1 and assigning it to Dict3\n",
        "Dict3=Dict1.copy()\n",
        "print(\"Shallow copy of Dict1 is Dict3 -\",Dict3)\n",
        "\n",
        "# clearing Dict1\n",
        "Dict1.clear()\n",
        "print(\"Dict1 after clearing\",Dict1)"
      ],
      "execution_count": 37,
      "outputs": [
        {
          "output_type": "stream",
          "text": [
            "Dictionary Dict1 after deletion: {'name': 'XYZ'}\n",
            "Value associated with poped key is 20\n",
            "Shallow copy of Dict1 is Dict3 - {'name': 'XYZ'}\n",
            "Dict1 after clearing {}\n"
          ],
          "name": "stdout"
        }
      ]
    }
  ]
}