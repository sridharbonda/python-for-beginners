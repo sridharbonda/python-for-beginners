{
  "nbformat": 4,
  "nbformat_minor": 0,
  "metadata": {
    "colab": {
      "name": "Basic Data Structures",
      "provenance": []
    },
    "kernelspec": {
      "name": "python3",
      "display_name": "Python 3"
    }
  },
  "cells": [
    {
      "cell_type": "markdown",
      "metadata": {
        "id": "PrMDndSL8HbP",
        "colab_type": "text"
      },
      "source": [
        "## **Deque**\n",
        "\n",
        "\n",
        "---\n",
        "\n",
        "\n",
        "\n",
        "---\n",
        "\n",
        "\n",
        "Deque is similar to that of the list. In double ended deque, has a feature of adding and removing elements from both beginning and end.\n",
        "\n",
        "Deque is part of collection\n",
        "\n",
        "deque operations:\n",
        "\n",
        "\n",
        "*   append() :- This function is used to insert the value in its argument to the right end of deque\n",
        "\n",
        "*   appendleft() :- This function is used to insert the value in its argument to the left end of deque\n",
        "*   pop() :- This function is used to delete an argument from the right end of deque\n",
        "\n",
        "\n",
        "*   popleft() :- This function is used to delete an argument from the left end of deque.\n",
        "\n",
        "\n",
        "\n",
        "\n",
        "\n"
      ]
    },
    {
      "cell_type": "code",
      "metadata": {
        "id": "8btxtDRo_BMS",
        "colab_type": "code",
        "outputId": "28ccfa66-ded2-4ffb-a582-82a1caa2ed2e",
        "colab": {
          "base_uri": "https://localhost:8080/",
          "height": 101
        }
      },
      "source": [
        "import collections\n",
        "\n",
        "d1=collections.deque([1,5,7,2])\n",
        "\n",
        "print(\"Initial Deque:\",d1)\n",
        "\n",
        "d1.append(\"right\")\n",
        "\n",
        "print(\"deque after adding element at the end\",d1)\n",
        "\n",
        "d1.appendleft(\"left\")\n",
        "\n",
        "print(\"deque after adding element at the beginning\",d1)\n",
        "\n",
        "str_d=d1.pop()\n",
        "\n",
        "print(\"returns last element:\",str_d)\n",
        "\n",
        "str_d=d1.popleft()\n",
        "\n",
        "print(\"returns last element:\",str_d)"
      ],
      "execution_count": 0,
      "outputs": [
        {
          "output_type": "stream",
          "text": [
            "Initial Deque: deque([1, 5, 7, 2])\n",
            "deque after adding element at the end deque([1, 5, 7, 2, 'right'])\n",
            "deque after adding element at the beginning deque(['left', 1, 5, 7, 2, 'right'])\n",
            "returns last element: right\n",
            "returns last element: left\n"
          ],
          "name": "stdout"
        }
      ]
    },
    {
      "cell_type": "markdown",
      "metadata": {
        "id": "obr3Qg5f_Awa",
        "colab_type": "text"
      },
      "source": [
        "## **Linked lists**\n",
        "\n",
        "---\n",
        "\n",
        "\n",
        "\n",
        "---\n",
        "\n",
        "\n",
        "\n",
        "Linked list is a linear data structure. The elements are linked using pointers.\n",
        "\n",
        "Advantages over arrays and lists:\n",
        "\n",
        "\n",
        "1.   Dynamic size\n",
        "\n",
        "1.   Ease of insertion/deletion\n",
        "\n",
        "\n",
        "A linked list is represented by a pointer to the first node of the linked list. The first node is called the head. If the linked list is empty, then the value of the head is NULL\n",
        "\n",
        "A node consists of:\n",
        "\n",
        "\n",
        "1.   Data\n",
        "2.   pointer to next node\n",
        "\n",
        "## Inserting\n",
        "\n",
        "\n"
      ]
    },
    {
      "cell_type": "code",
      "metadata": {
        "id": "D3yDpB9Wt8sE",
        "colab_type": "code",
        "outputId": "eaa64597-71f2-4110-c7ae-e45050deeace",
        "colab": {
          "base_uri": "https://localhost:8080/",
          "height": 151
        }
      },
      "source": [
        "class Node():\n",
        "  def __init__(self,x):\n",
        "    # initializing data\n",
        "    self.data=x\n",
        "    # initilaizing next as null\n",
        "    self.next=None\n",
        "\n",
        "# creating a linkedlist class\n",
        "class Linkedlist():\n",
        "  def __init__(self):\n",
        "    self.head=None\n",
        "  \n",
        "  # to print the linkedlist\n",
        "  def printlist(self):\n",
        "    t=self.head\n",
        "    while(t):\n",
        "      print(t.data)\n",
        "      t=t.next\n",
        "  \n",
        "  # adding an node at the beginning of linkedlist\n",
        "  def push(self,y):\n",
        "    # allocating node and entering data\n",
        "    new=Node(y)\n",
        "\n",
        "    # linking new node to first node\n",
        "    new.next=self.head\n",
        "\n",
        "    # making new node as first node\n",
        "    self.head=new\n",
        "\n",
        "link_l=Linkedlist()\n",
        "# giving value to the first node of linkedlist link_l\n",
        "link_l.head=Node(1)\n",
        "second=Node(3)\n",
        "third=Node(5)\n",
        "\n",
        "# linking the first node to the 2nd node\n",
        "link_l.head.next=second\n",
        "\n",
        "# linking the second node to the 3rd node\n",
        "second.next=third\n",
        "\n",
        "link_l.printlist()\n",
        "\n",
        "link_l.push(-1)\n",
        "print(\"Updated list\")\n",
        "link_l.printlist()\n",
        "\n"
      ],
      "execution_count": 0,
      "outputs": [
        {
          "output_type": "stream",
          "text": [
            "1\n",
            "3\n",
            "5\n",
            "Updated list\n",
            "-1\n",
            "1\n",
            "3\n",
            "5\n"
          ],
          "name": "stdout"
        }
      ]
    },
    {
      "cell_type": "markdown",
      "metadata": {
        "id": "NuSZ4gYU5qHx",
        "colab_type": "text"
      },
      "source": [
        "## Deleting\n",
        "\n",
        "To delete a node from linked list:\n",
        "\n",
        "\n",
        "1.   Find previous node of the node to be deleted.\n",
        "\n",
        "1.   Change the next of previous node.\n",
        "2.   Free memory for the node to be deleted.\n",
        "\n",
        "\n",
        "## Searching\n",
        "\n",
        "Iterative solution is given below code\n",
        "\n",
        "\n"
      ]
    },
    {
      "cell_type": "code",
      "metadata": {
        "id": "Ev5S5ZPA5qYP",
        "colab_type": "code",
        "outputId": "2ab875e4-e142-4ba7-bd92-ac4bc64badc3",
        "colab": {
          "base_uri": "https://localhost:8080/",
          "height": 134
        }
      },
      "source": [
        "class Node():\n",
        "  def __init__(self,x):\n",
        "    self.data=x\n",
        "    self.next=None\n",
        "\n",
        "class Linkedlist():\n",
        "  def __init__(self):\n",
        "    self.head=None\n",
        "  \n",
        "  def printlist(self):\n",
        "    t=self.head\n",
        "    while(t):\n",
        "      print(t.data)\n",
        "      t=t.next\n",
        "  \n",
        "  # function to delete a node \n",
        "  def delete(self,y):\n",
        "    t=self.head\n",
        "    if(t.data==y):\n",
        "      self.head=t.next\n",
        "      t=None\n",
        "      return\n",
        "\n",
        "    while(t is not None):\n",
        "      if(t.data==y):\n",
        "        break\n",
        "      prev=t\n",
        "      t=t.next\n",
        "    \n",
        "    if(t==None):\n",
        "      return\n",
        "    \n",
        "    prev.next=t.next\n",
        "    t=None\n",
        "  # function to search the element\n",
        "  def search(self,key):\n",
        "    current=self.head\n",
        "    while(current!=None):\n",
        "      if (current.data==key):\n",
        "        print(key,\"is present\")\n",
        "      current=current.next\n",
        "    \n",
        "      \n",
        "\n",
        "\n",
        "link_l=Linkedlist()\n",
        "# giving value to the first node of linkedlist link_l\n",
        "link_l.head=Node(1)\n",
        "second=Node(3)\n",
        "third=Node(5)\n",
        "\n",
        "# linking the first node to the 2nd node\n",
        "link_l.head.next=second\n",
        "\n",
        "# linking the second node to the 3rd node\n",
        "second.next=third\n",
        "\n",
        "link_l.printlist()\n",
        "\n",
        "link_l.delete(1)\n",
        "print(\"Updated list\")\n",
        "link_l.printlist()\n",
        "\n",
        "link_l.search(5)"
      ],
      "execution_count": 0,
      "outputs": [
        {
          "output_type": "stream",
          "text": [
            "1\n",
            "3\n",
            "5\n",
            "Updated list\n",
            "3\n",
            "5\n",
            "5 is present\n"
          ],
          "name": "stdout"
        }
      ]
    },
    {
      "cell_type": "markdown",
      "metadata": {
        "id": "24nxJRxCl4aQ",
        "colab_type": "text"
      },
      "source": [
        "## **Stacks**\n",
        "\n",
        "\n",
        "\n",
        "---\n",
        "\n",
        "\n",
        "\n",
        "---\n",
        "\n",
        "A stack is a linear data structure that stores items in a Last-In/First-Out (LIFO) or First-In/Last-Out (FILO) manner.\n"
      ]
    },
    {
      "cell_type": "code",
      "metadata": {
        "id": "VMJ7LiMul4pL",
        "colab_type": "code",
        "outputId": "57d9539c-f792-4b72-c412-a62b5e6eb18b",
        "colab": {
          "base_uri": "https://localhost:8080/",
          "height": 84
        }
      },
      "source": [
        "# implementation of stacks using lists\n",
        "# creating an list\n",
        "a=[2,5,8,2,1,4]\n",
        "print(\"initially:\",a)\n",
        "\n",
        "# append() function to push \n",
        "# element in the stack \n",
        "a.append('pushed')\n",
        "print(\"After appending:\",a)\n",
        "\n",
        "# pop() is used to remove the elemt \n",
        "# from list in LiFo order\n",
        "print(\"removed last element is:\",a.pop())\n",
        "\n",
        "print(\"Final list:\",a)\n",
        "\n"
      ],
      "execution_count": 0,
      "outputs": [
        {
          "output_type": "stream",
          "text": [
            "initially: [2, 5, 8, 2, 1, 4]\n",
            "After appending: [2, 5, 8, 2, 1, 4, 'pushed']\n",
            "removed last element is: pushed\n",
            "Final list: [2, 5, 8, 2, 1, 4]\n"
          ],
          "name": "stdout"
        }
      ]
    },
    {
      "cell_type": "markdown",
      "metadata": {
        "id": "YoTwIqL_CcJB",
        "colab_type": "text"
      },
      "source": [
        "## **Queues**\n",
        "\n",
        "\n",
        "\n",
        "---\n",
        "\n",
        "\n",
        "\n",
        "---\n",
        "\n",
        "Queue is a linear data structure that stores items in First In First Out (FIFO) manner. With a queue the least recently added item is removed first."
      ]
    },
    {
      "cell_type": "code",
      "metadata": {
        "id": "wxRnbCV5CchE",
        "colab_type": "code",
        "colab": {
          "base_uri": "https://localhost:8080/",
          "height": 134
        },
        "outputId": "963fb140-8d09-4000-d686-43b4168ac893"
      },
      "source": [
        "# Creating an empty list\n",
        "# implementation using list\n",
        "queue = [] \n",
        "  \n",
        "# Adding elements to the queue \n",
        "queue.append('mumbai') \n",
        "queue.append('maharastra') \n",
        "queue.append(10000) \n",
        "  \n",
        "print(\"Initial queue\",queue) \n",
        "  \n",
        "# Removing elements from the queue \n",
        "# first element which got appended is the\n",
        "# first element to to be removed\n",
        "print(\"Elements dequeued from queue:\") \n",
        "print(\"1-->\",queue.pop(0)) \n",
        "print(\"2-->\",queue.pop(0)) \n",
        "print(\"3-->\",queue.pop(0)) \n",
        "  \n",
        "print(\"Queue after removing elements\") \n",
        "print(queue) \n"
      ],
      "execution_count": 22,
      "outputs": [
        {
          "output_type": "stream",
          "text": [
            "Initial queue ['mumbai', 'maharastra', 10000]\n",
            "Elements dequeued from queue:\n",
            "1--> mumbai\n",
            "2--> maharastra\n",
            "3--> 10000\n",
            "Queue after removing elements\n",
            "[]\n"
          ],
          "name": "stdout"
        }
      ]
    },
    {
      "cell_type": "markdown",
      "metadata": {
        "id": "6KpmEpKSGjCV",
        "colab_type": "text"
      },
      "source": [
        "## **Binary Search Tree**\n",
        "\n",
        "\n",
        "---\n",
        "\n",
        "\n",
        "\n",
        "---\n",
        "\n",
        "\n",
        "Binary search tree has following properties:\n",
        "\n",
        "\n",
        "*   The left subtree of a node contains only nodes with keys lesser than the node’s key.\n",
        "\n",
        "*   The right subtree of a node contains only nodes with keys greater than the node’s key.\n",
        "*  The left and right subtree each must also be a binary search tree.\n",
        "There must be no duplicate nodes.\n",
        "\n",
        "\n",
        "\n",
        "## Searching ,inserting, deleting\n"
      ]
    },
    {
      "cell_type": "code",
      "metadata": {
        "id": "u5eDvQMtGjRj",
        "colab_type": "code",
        "colab": {
          "base_uri": "https://localhost:8080/",
          "height": 67
        },
        "outputId": "80b87f19-fbc9-4735-8c10-d2b404182e8d"
      },
      "source": [
        "# class representing node\n",
        "class Node: \n",
        "  def __init__(self,key): \n",
        "    self.left = None\n",
        "    self.right = None\n",
        "    self.val = key \n",
        "  \n",
        "# A utility function to insert a new node with the given key \n",
        "def insert(root,node): \n",
        "  if root is None: \n",
        "    root = node \n",
        "  else: \n",
        "    if root.val < node.val: \n",
        "      if root.right is None: \n",
        "        root.right = node \n",
        "      else: \n",
        "        insert(root.right, node) \n",
        "    else: \n",
        "      if root.left is None: \n",
        "        root.left = node \n",
        "      else: \n",
        "        insert(root.left, node) \n",
        "  \n",
        "def search(root,key): \n",
        "      \n",
        "  # Base Cases: root is null or key is present at root \n",
        "  if root is None or root.val == key: \n",
        "      return True\n",
        "  \n",
        "  # Key is greater than root's key \n",
        "  elif root.val < key: \n",
        "      return search(root.right,key) \n",
        "    \n",
        "  # Key is smaller than root's key \n",
        "  elif root.val < key: \n",
        "      return search(root.left,key)\n",
        "\n",
        "  else:\n",
        "    return False\n",
        "\n",
        "# Given a non-empty binary search tree, return the node \n",
        "# with minimum key value found in that tree\n",
        "def minValueNode( node): \n",
        "  current = node \n",
        "  \n",
        "  # loop down to find the leftmost leaf \n",
        "  while(current.left is not None): \n",
        "    current = current.left  \n",
        "  \n",
        "  return current  \n",
        "  \n",
        "# Given a binary search tree and a key, this function \n",
        "# delete the key and returns the new root \n",
        "def deleteNode(root, key): \n",
        "  \n",
        "  # Base Case \n",
        "  if root is None: \n",
        "    return root  \n",
        "  \n",
        "  # If the key to be deleted is smaller than the root's \n",
        "  # key then it lies in  left subtree \n",
        "  if key < root.val: \n",
        "    root.left = deleteNode(root.left, key) \n",
        "  \n",
        "  # If the kye to be delete is greater than the root's key \n",
        "  # then it lies in right subtree \n",
        "  elif(key > root.val): \n",
        "    root.right = deleteNode(root.right, key) \n",
        "  \n",
        "  # If key is same as root's key, then this is the node \n",
        "  # to be deleted \n",
        "  else: \n",
        "          \n",
        "    # Node with only one child or no child \n",
        "    if root.left is None : \n",
        "      temp = root.right  \n",
        "      root = None \n",
        "      return temp  \n",
        "              \n",
        "    elif root.right is None : \n",
        "      temp = root.left  \n",
        "      root = None\n",
        "      return temp \n",
        "  \n",
        "    # Node with two children: Get the inorder successor \n",
        "    # (smallest in the right subtree) \n",
        "    temp = minValueNode(root.right) \n",
        "  \n",
        "    # Copy the inorder successor's content to this node \n",
        "    root.val = temp.val \n",
        "  \n",
        "    # Delete the inorder successor \n",
        "    root.right = deleteNode(root.right , temp.val) \n",
        "  \n",
        "  \n",
        "  return root  \n",
        "\n",
        "r = Node(50) \n",
        "insert(r,Node(-30)) \n",
        "insert(r,Node(20)) \n",
        "insert(r,Node(540)) \n",
        "\n",
        "\n",
        "# returns True if the element is present\n",
        "# returns False if the element is not present\n",
        "print(\"1 is present:\",search(r,1))\n",
        "print(\"50 is present:\",search(r,50))\n",
        "\n",
        "# deleting 50 \n",
        "deleteNode(r,50)\n",
        "\n",
        "print(\"50 is present:\",search(r,50))"
      ],
      "execution_count": 16,
      "outputs": [
        {
          "output_type": "stream",
          "text": [
            "1 is present: False\n",
            "50 is present: True\n",
            "50 is present: False\n"
          ],
          "name": "stdout"
        }
      ]
    }
  ]
}