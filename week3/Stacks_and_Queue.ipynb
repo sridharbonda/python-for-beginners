{
  "nbformat": 4,
  "nbformat_minor": 0,
  "metadata": {
    "colab": {
      "name": "Stacks and Queue",
      "provenance": [],
      "collapsed_sections": []
    },
    "kernelspec": {
      "name": "python3",
      "display_name": "Python 3"
    }
  },
  "cells": [
    {
      "cell_type": "markdown",
      "metadata": {
        "id": "dZKt4CTNZghI",
        "colab_type": "text"
      },
      "source": [
        "## **STACKS AND QUEUES**\n",
        "\n",
        "## Stacks\n",
        "\n",
        "Stacks works on the principle \"Last In First Out\".\n",
        "\n",
        "Ex: using pop() inbuilt function last element of the list is returned which is nothing but a stack.\n",
        "\n",
        "\n",
        "\n",
        "```\n",
        "list1=[1,3,4,5]\n",
        "print(list1.pop())\n",
        "```\n",
        "output is 5.\n",
        "\n",
        "\n",
        "---\n",
        "\n",
        "\n",
        "\n",
        "\n",
        "\n",
        "## Queue\n",
        "\n",
        "Queue works on the principle \"First In First Out\".\n",
        "\n",
        "Ex: We use pop(0) to remove the first item from a list \n",
        "or deque can be used.\n",
        "\n",
        "\n",
        "\n",
        "```\n",
        "# Using Deque\n",
        "Dq=deque([1,3,4,5])\n",
        "print(Dq.popleft())\n",
        "```\n",
        "output is 1.\n",
        "\n",
        "\n",
        "---\n",
        "\n",
        "\n",
        "# Developing a Stack using queue\n",
        "\n",
        "\n",
        "\n",
        "\n"
      ]
    },
    {
      "cell_type": "code",
      "metadata": {
        "id": "1KcDdmPCZf61",
        "colab_type": "code",
        "outputId": "d0ed1a71-3f7f-458d-dc37-2aff58e91436",
        "colab": {
          "base_uri": "https://localhost:8080/",
          "height": 67
        }
      },
      "source": [
        "class stacks():\n",
        "\n",
        "  def __init__(self):\n",
        "    # initialising empty stacks\n",
        "    self.s1=[]\n",
        "    self.s2=[]\n",
        "\n",
        "  def enQueue(self,x):\n",
        "    # adding the elements at the end of the list\n",
        "    self.s1.append(x)\n",
        "\n",
        "  def deQueue(self):\n",
        "    # checking if s2 is empty\n",
        "    if(not self.s2):\n",
        "      while(self.s1!=[]):\n",
        "        # making s2 reverse of s1\n",
        "        # first element of s1 becomes last of s2\n",
        "        self.s2.append(self.s1.pop())\n",
        "    # returns the last element of s2 \n",
        "    # i.e.,first element of s1\n",
        "    return self.s2.pop()\n",
        "\n",
        "# creating an object\n",
        "Test=stacks()\n",
        "Test.enQueue(1)\n",
        "Test.enQueue(3)\n",
        "Test.enQueue(5)\n",
        "print(Test.deQueue())\n",
        "print(Test.deQueue())\n",
        "print(Test.deQueue())\n",
        "\n",
        "# here from output it can be seen that the first entered number\n",
        "# is the first element to get removed\n",
        "\n",
        "  \n"
      ],
      "execution_count": 0,
      "outputs": [
        {
          "output_type": "stream",
          "text": [
            "1\n",
            "3\n",
            "5\n"
          ],
          "name": "stdout"
        }
      ]
    },
    {
      "cell_type": "markdown",
      "metadata": {
        "id": "4auQfRvAI3gV",
        "colab_type": "text"
      },
      "source": [
        "# Developing a stack from queues"
      ]
    },
    {
      "cell_type": "code",
      "metadata": {
        "id": "hG1tbAr2I3wp",
        "colab_type": "code",
        "outputId": "3624731b-a27b-466f-d0d5-6a3121d6ed95",
        "colab": {
          "base_uri": "https://localhost:8080/",
          "height": 67
        }
      },
      "source": [
        "from queue import Queue\n",
        "import collections\n",
        "\n",
        "class Queues():\n",
        "  def __init__(self):\n",
        "    self.q1=collections.deque([])\n",
        "    self.q2=collections.deque([])\n",
        "\n",
        "  def push(self,x):\n",
        "    self.q1.append(x)\n",
        "\n",
        "    \n",
        "  def pop(self):\n",
        "    if(self.q1!=None):\n",
        "      return self.q1.pop()\n",
        "    else:\n",
        "      return\n",
        "    \n",
        "Q=Queues()\n",
        "Q.push(1)\n",
        "Q.push(3)\n",
        "Q.push(5)\n",
        "print(Q.pop())\n",
        "print(Q.pop())\n",
        "print(Q.pop())"
      ],
      "execution_count": 17,
      "outputs": [
        {
          "output_type": "stream",
          "text": [
            "5\n",
            "3\n",
            "1\n"
          ],
          "name": "stdout"
        }
      ]
    }
  ]
}