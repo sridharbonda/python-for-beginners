{
  "nbformat": 4,
  "nbformat_minor": 0,
  "metadata": {
    "colab": {
      "name": "Untitled0.ipynb",
      "provenance": [],
      "collapsed_sections": [],
      "authorship_tag": "ABX9TyPJBq6G9V1AzGB7t8r9D7mO",
      "include_colab_link": true
    },
    "kernelspec": {
      "name": "python3",
      "display_name": "Python 3"
    }
  },
  "cells": [
    {
      "cell_type": "markdown",
      "metadata": {
        "id": "view-in-github",
        "colab_type": "text"
      },
      "source": [
        "<a href=\"https://colab.research.google.com/github/sridharbonda/python-for-beginners/blob/master/beginner.ipynb\" target=\"_parent\"><img src=\"https://colab.research.google.com/assets/colab-badge.svg\" alt=\"Open In Colab\"/></a>"
      ]
    },
    {
      "cell_type": "markdown",
      "metadata": {
        "id": "tmMnRksTvf2k",
        "colab_type": "text"
      },
      "source": [
        "Print function, string and variable"
      ]
    },
    {
      "cell_type": "code",
      "metadata": {
        "id": "5F1uhvasri96",
        "colab_type": "code",
        "outputId": "0097a38d-9590-4d81-d3be-c0c92c098f2a",
        "colab": {
          "base_uri": "https://localhost:8080/",
          "height": 105
        }
      },
      "source": [
        "name=\"XYZ\"\n",
        "age=20\n",
        "SGPI=9.3\n",
        "#Few ways to print in python \n",
        "#\n",
        "print(f\"Name of student is {name} \\n Age is {age} \\n SGPI is {SGPI}\")\n",
        "#\n",
        "print(\"%s passed in good SGPI of %f\" %(name,SGPI))\n",
        "#type(variable) returns the data type of the variable \n",
        "#When commas are used the python automatically understands the datatype \n",
        "print(\"name is\",type(name),\"age is\",type(age),\"SGPI is\",(type(SGPI)))\n",
        "\n"
      ],
      "execution_count": 0,
      "outputs": [
        {
          "output_type": "stream",
          "text": [
            "Name of student is XYZ \n",
            " Age is 20 \n",
            " SGPI is 9.3\n",
            "XYZ passed in good SGPI of 9.300000\n",
            "name is  <class 'str'> age is  <class 'int'> SGPI is  <class 'float'>\n"
          ],
          "name": "stdout"
        }
      ]
    },
    {
      "cell_type": "markdown",
      "metadata": {
        "id": "qW8uidaTvbGQ",
        "colab_type": "text"
      },
      "source": [
        "List operations and String manipulations"
      ]
    },
    {
      "cell_type": "code",
      "metadata": {
        "id": "RXOB7d7AHB-V",
        "colab_type": "code",
        "outputId": "4cdf4e3a-5c0f-4802-8275-589651de7f23",
        "colab": {
          "base_uri": "https://localhost:8080/",
          "height": 87
        }
      },
      "source": [
        "l1=[i for i in \"TEST\"]\n",
        "print(l1)\n",
        "cities=\"mumbai,delhi,hyderabad,pune\"#converting string into a list\n",
        "#The split() method splits a string into a list\n",
        "l2=cities.split(\",\")\n",
        "print(l2)\n",
        "#join() method is a string method and returns a string \n",
        "#elements of sequence have been joined by str separator.\n",
        "Org_string=','.join(l2)#converting list into string\n",
        "print(Org_string)\n",
        "print(Org_string.upper())#To print the string in upper case\n",
        " "
      ],
      "execution_count": 0,
      "outputs": [
        {
          "output_type": "stream",
          "text": [
            "['T', 'E', 'S', 'T']\n",
            "['mumbai', 'delhi', 'hyderabad', 'pune']\n",
            "mumbai,delhi,hyderabad,pune\n",
            "MUMBAI,DELHI,HYDERABAD,PUNE\n"
          ],
          "name": "stdout"
        }
      ]
    },
    {
      "cell_type": "markdown",
      "metadata": {
        "id": "b7F-v8dkWW-6",
        "colab_type": "text"
      },
      "source": [
        "Lists, Tuples, Sets, Dicitionaries"
      ]
    },
    {
      "cell_type": "code",
      "metadata": {
        "id": "RWPTJunFWXXP",
        "colab_type": "code",
        "outputId": "e399468c-8fba-44e5-85cd-c9e4812627ff",
        "colab": {
          "base_uri": "https://localhost:8080/",
          "height": 422
        }
      },
      "source": [
        "#Lists\n",
        "\n",
        "print(\"-------------------Lists----------------\")\n",
        "list1=[]#empty List\n",
        "list2=[8,5,8,3,6,4]\n",
        "list3=[\"Mumbai\",\"Chennai\",\"Delhi\",\"Jaipur\",\"Pune\",\"Bangalore\"]\n",
        "print(\"list2 is\",list2)\n",
        "print(\"list3 is\",list3)\n",
        "list3.append(\"Hyderabad\")#adding new element to List\n",
        "print(\"List3 after adding an new element\",list3)\n",
        "list1=list2[2:5]#slicing of lists\n",
        "print(\"list1 is\",list1)\n",
        "del list1[2]#Deleting the element at index 2\n",
        "print(\"list1 after deleting 3rd element\",list1)\n",
        "print(f\"The least value element in list2 is {min(list2)}\")\n",
        "\n",
        "#Tuples\n",
        "\n",
        "print(\"-------------------Tuples----------------\")\n",
        "tup1=(1,4,7,8,9,5)\n",
        "tup2=(\"Delhi\",\"Mumbai\",\"Pune\")\n",
        "#printing tuples\n",
        "print(\"tup1 is\",tup1)\n",
        "print(\"tup2 is\",tup2)\n",
        "#tuples cannot be edited\n",
        "#New Elements cannot be added to tuple\n",
        "#Elements cannot be deleted in a tuple\n",
        "tup3=(tup1,tup2)#nested Tuples\n",
        "print(\"Nested tuple is\",tup3,\"it's length is\",len(tup3))\n",
        "print(\"length of the tuple\",tup1,\"is\",len(tup1))#len() is used to find number of elements in tuple\n",
        "\n",
        "#Dictionaries\n",
        "\n",
        "print(\"-------------------Dictionaries----------------\")\n",
        "#creating a dictionary\n",
        "Dict1={\"name\":\"XYZ\",\"age\":20}\n",
        "print(\"Dictionary Dict1 is\",Dict1)\n",
        "#accessing elements using key\n",
        "print(\"Name as in Dict1 is\",Dict1[\"name\"],\"age is\",Dict1[\"age\"])\n",
        "#nested Dictionary\n",
        "Dict={'student1':{\"name\":\"XYZ\",\"age\":20},\n",
        "      'student2':{\"name\":\"Bond\",\"age\":19}}\n",
        "#Accessing element using key from nested dictionaries\n",
        "print(\"Name of student1 is\",Dict[\"student1\"][\"name\"])\n",
        "print(\"Age of student2 is\",Dict[\"student2\"][\"age\"])\n",
        "#Pop() method is used to return and delete the value of the key specified\n",
        "pop_ele=Dict1.pop(\"age\")\n",
        "print(\"Dictionary Dict1 after deletion:\",Dict1)\n",
        "print(\"Value associated with poped key is\",pop_ele)\n",
        "\n",
        "#Sets\n",
        "\n",
        "print(\"--------------------Sets------------------------\")\n",
        "#creating a set\n",
        "cities={\"Mumbai\",\"Delhi\",\"Pune\",\"Bangalore\"}\n",
        "print(\"Set named cities is\",cities)\n",
        "#Adding element to the set\n",
        "cities.add(\"Hyderabad\")\n",
        "print(\"cities after adding an new element\",cities)\n",
        "# A frozen set - immutable set\n",
        "frozen_set = frozenset([\"e\", \"f\", \"g\"])\n",
        "print(\"Frozen Set\",frozen_set)  \n",
        "# Uncommenting below line would cause error as \n",
        "# we are trying to add element to a frozen set \n",
        "# frozen_set.add(\"h\")\n",
        "\n",
        "\n",
        "\n",
        "\n",
        "\n",
        "\n"
      ],
      "execution_count": 0,
      "outputs": [
        {
          "output_type": "stream",
          "text": [
            "-------------------Lists----------------\n",
            "list2 is [8, 5, 8, 3, 6, 4]\n",
            "list3 is ['Mumbai', 'Chennai', 'Delhi', 'Jaipur', 'Pune', 'Bangalore']\n",
            "List3 after adding an new element ['Mumbai', 'Chennai', 'Delhi', 'Jaipur', 'Pune', 'Bangalore', 'Hyderabad']\n",
            "list1 is [8, 3, 6]\n",
            "list1 after deleting 3rd element [8, 3]\n",
            "The least value element in list2 is 3\n",
            "-------------------Tuples----------------\n",
            "tup1 is (1, 4, 7, 8, 9, 5)\n",
            "tup2 is ('Delhi', 'Mumbai', 'Pune')\n",
            "Nested tuple is ((1, 4, 7, 8, 9, 5), ('Delhi', 'Mumbai', 'Pune')) it's length is 2\n",
            "length of the tuple (1, 4, 7, 8, 9, 5) is 6\n",
            "-------------------Dictionaries----------------\n",
            "Dictionary Dict1 is {'name': 'XYZ', 'age': 20}\n",
            "Name as in Dict1 is XYZ age is 20\n",
            "Name of student1 is XYZ\n",
            "Age of student2 is 19\n",
            "Dictionary Dict1 after deletion: {'name': 'XYZ'}\n",
            "Value associated with poped key is 20\n",
            "--------------------Sets------------------------\n",
            "Set named cities is {'Mumbai', 'Bangalore', 'Delhi', 'Pune'}\n",
            "cities after adding an new element {'Mumbai', 'Pune', 'Delhi', 'Bangalore', 'Hyderabad'}\n",
            "Frozen Set frozenset({'g', 'e', 'f'})\n"
          ],
          "name": "stdout"
        }
      ]
    },
    {
      "cell_type": "markdown",
      "metadata": {
        "id": "IpJg3kgPx0zR",
        "colab_type": "text"
      },
      "source": [
        "Operations and Built-in functions"
      ]
    },
    {
      "cell_type": "code",
      "metadata": {
        "id": "5oY23srGx1Dg",
        "colab_type": "code",
        "outputId": "baf5b674-da8a-4519-f542-cc5d4ba37881",
        "colab": {
          "base_uri": "https://localhost:8080/",
          "height": 158
        }
      },
      "source": [
        "\n",
        "x=int(input(\"Enter a number\"))#input() function is used to take input from the user\n",
        "if(x<0):\n",
        "  print(x,\"is  negative\")#print() is used to display the data\n",
        "else:\n",
        "  print(x,\"is  positive\")\n",
        "y=-78\n",
        "print(\"absolute value of\",y,\"is\",abs(y))#abs() returns the absolute value\n",
        "#type() returns the type of an object\n",
        "print(\"Type of the variable stored user entered number is\",type(x))\n",
        "l1=[1,5,4,3]\n",
        "l1.reverse()#reverse() is used to reverse the list\n",
        "print(l1)\n",
        "a=int(input(\"Enter base number-b\"))\n",
        "b=int(input(\"Enter power of number-p\"))\n",
        "print(\"b power to p is\",pow(a,b))#returns value b^p\n",
        "\n"
      ],
      "execution_count": 0,
      "outputs": [
        {
          "output_type": "stream",
          "text": [
            "Enter a number45\n",
            "45 is  positive\n",
            "absolute value of -78 is 78\n",
            "Type of the variable stored user entered number is <class 'int'>\n",
            "[3, 4, 5, 1]\n",
            "Enter base number-b4\n",
            "Enter power of number-p7\n",
            "b power to p is 16384\n"
          ],
          "name": "stdout"
        }
      ]
    },
    {
      "cell_type": "markdown",
      "metadata": {
        "id": "hrzT1ITOXWRY",
        "colab_type": "text"
      },
      "source": [
        "Importing Modules"
      ]
    },
    {
      "cell_type": "code",
      "metadata": {
        "id": "3MdGtpICXWjc",
        "colab_type": "code",
        "outputId": "1eba9d59-e6c8-4b2a-c591-6393de454377",
        "colab": {
          "base_uri": "https://localhost:8080/",
          "height": 34
        }
      },
      "source": [
        "import numpy#command import is used to import any module or package\n",
        "x=numpy.random.randn()#generates a random number \n",
        "print(x)\n",
        " \n",
        "\n"
      ],
      "execution_count": 0,
      "outputs": [
        {
          "output_type": "stream",
          "text": [
            "-0.9128822275411625\n"
          ],
          "name": "stdout"
        }
      ]
    },
    {
      "cell_type": "markdown",
      "metadata": {
        "id": "xGQBbFitenmb",
        "colab_type": "text"
      },
      "source": [
        "Defining Functions"
      ]
    },
    {
      "cell_type": "code",
      "metadata": {
        "id": "j35t3AAVen51",
        "colab_type": "code",
        "outputId": "05536ca6-abad-418a-e85d-6a8910a7e02d",
        "colab": {
          "base_uri": "https://localhost:8080/",
          "height": 52
        }
      },
      "source": [
        "#function to check whether the entered text is a valid phone number\n",
        "def isphonenumber(text):\n",
        "  if(len(text))!=10:#checking the length of number entered\n",
        "    return False\n",
        "  for i in range(0,9):\n",
        "    if not text[i].isdecimal():#To check whether the every digit of entered number is a decimal\n",
        "      return False\n",
        "  return True\n",
        "\n",
        "number=str(input(\"Enter phone number \"))#to store user entered number\n",
        "if isphonenumber(number)==True:\n",
        "  print(\"It's a valid phone number\")\n",
        "else:\n",
        "  print(\"Check the number entered\")\n"
      ],
      "execution_count": 0,
      "outputs": [
        {
          "output_type": "stream",
          "text": [
            "Enter phone number 7045880899\n",
            "It's a valid phone number\n"
          ],
          "name": "stdout"
        }
      ]
    },
    {
      "cell_type": "markdown",
      "metadata": {
        "id": "7oY1ME6L5nEl",
        "colab_type": "text"
      },
      "source": [
        "Downloading any external library (module) using pip"
      ]
    },
    {
      "cell_type": "code",
      "metadata": {
        "id": "Cnubw4i_5nXG",
        "colab_type": "code",
        "outputId": "28064c06-7b21-4f20-8a88-0f38b4547144",
        "colab": {
          "base_uri": "https://localhost:8080/",
          "height": 389
        }
      },
      "source": [
        "pip install azure-cognitiveservices-vision-computervision"
      ],
      "execution_count": 1,
      "outputs": [
        {
          "output_type": "stream",
          "text": [
            "Collecting azure-cognitiveservices-vision-computervision\n",
            "  Downloading https://files.pythonhosted.org/packages/55/d8/f61816761877cdd9c0e1e2274914946e67b3a07dd59bda37636badcedba1/azure_cognitiveservices_vision_computervision-0.5.0-py2.py3-none-any.whl\n",
            "Collecting azure-common~=1.1\n",
            "  Downloading https://files.pythonhosted.org/packages/e5/4d/d000fc3c5af601d00d55750b71da5c231fcb128f42ac95b208ed1091c2c1/azure_common-1.1.25-py2.py3-none-any.whl\n",
            "Collecting msrest>=0.5.0\n",
            "\u001b[?25l  Downloading https://files.pythonhosted.org/packages/56/f2/e2f9e4dc72884fff27e68ceaf027b9a3b80ba16f5757fc2916cb5d9117bd/msrest-0.6.13-py2.py3-none-any.whl (83kB)\n",
            "\u001b[K     |████████████████████████████████| 92kB 4.1MB/s \n",
            "\u001b[?25hCollecting isodate>=0.6.0\n",
            "\u001b[?25l  Downloading https://files.pythonhosted.org/packages/9b/9f/b36f7774ff5ea8e428fdcfc4bb332c39ee5b9362ddd3d40d9516a55221b2/isodate-0.6.0-py2.py3-none-any.whl (45kB)\n",
            "\u001b[K     |████████████████████████████████| 51kB 7.8MB/s \n",
            "\u001b[?25hRequirement already satisfied: certifi>=2017.4.17 in /usr/local/lib/python3.6/dist-packages (from msrest>=0.5.0->azure-cognitiveservices-vision-computervision) (2020.4.5.1)\n",
            "Requirement already satisfied: requests~=2.16 in /usr/local/lib/python3.6/dist-packages (from msrest>=0.5.0->azure-cognitiveservices-vision-computervision) (2.21.0)\n",
            "Requirement already satisfied: requests-oauthlib>=0.5.0 in /usr/local/lib/python3.6/dist-packages (from msrest>=0.5.0->azure-cognitiveservices-vision-computervision) (1.3.0)\n",
            "Requirement already satisfied: six in /usr/local/lib/python3.6/dist-packages (from isodate>=0.6.0->msrest>=0.5.0->azure-cognitiveservices-vision-computervision) (1.12.0)\n",
            "Requirement already satisfied: chardet<3.1.0,>=3.0.2 in /usr/local/lib/python3.6/dist-packages (from requests~=2.16->msrest>=0.5.0->azure-cognitiveservices-vision-computervision) (3.0.4)\n",
            "Requirement already satisfied: urllib3<1.25,>=1.21.1 in /usr/local/lib/python3.6/dist-packages (from requests~=2.16->msrest>=0.5.0->azure-cognitiveservices-vision-computervision) (1.24.3)\n",
            "Requirement already satisfied: idna<2.9,>=2.5 in /usr/local/lib/python3.6/dist-packages (from requests~=2.16->msrest>=0.5.0->azure-cognitiveservices-vision-computervision) (2.8)\n",
            "Requirement already satisfied: oauthlib>=3.0.0 in /usr/local/lib/python3.6/dist-packages (from requests-oauthlib>=0.5.0->msrest>=0.5.0->azure-cognitiveservices-vision-computervision) (3.1.0)\n",
            "Installing collected packages: azure-common, isodate, msrest, azure-cognitiveservices-vision-computervision\n",
            "Successfully installed azure-cognitiveservices-vision-computervision-0.5.0 azure-common-1.1.25 isodate-0.6.0 msrest-0.6.13\n"
          ],
          "name": "stdout"
        }
      ]
    }
  ]
}