{
  "nbformat": 4,
  "nbformat_minor": 0,
  "metadata": {
    "colab": {
      "name": "Untitled4.ipynb",
      "provenance": [],
      "collapsed_sections": [],
      "authorship_tag": "ABX9TyO1rzyYqwe9tsGLWBQISjVF",
      "include_colab_link": true
    },
    "kernelspec": {
      "name": "python3",
      "display_name": "Python 3"
    }
  },
  "cells": [
    {
      "cell_type": "markdown",
      "metadata": {
        "id": "view-in-github",
        "colab_type": "text"
      },
      "source": [
        "<a href=\"https://colab.research.google.com/github/sridharbonda/python-for-beginners/blob/master/Operators%20and%20built-in%20functions.ipynb\" target=\"_parent\"><img src=\"https://colab.research.google.com/assets/colab-badge.svg\" alt=\"Open In Colab\"/></a>"
      ]
    },
    {
      "cell_type": "markdown",
      "metadata": {
        "id": "SS7x6hLNR7OJ",
        "colab_type": "text"
      },
      "source": [
        "# **Operators in python**\n",
        "\n",
        "\n",
        "\n",
        "---\n",
        "# Arthimetic Operators\n",
        "Arithmetic operators are used to perform mathematical operations like addition, subtraction, multiplication and division.\n",
        "\n"
      ]
    },
    {
      "cell_type": "code",
      "metadata": {
        "id": "guVYXccdRmBy",
        "colab_type": "code",
        "colab": {
          "base_uri": "https://localhost:8080/",
          "height": 140
        },
        "outputId": "006ed704-5739-4d83-9f1b-2236ac25bf3b"
      },
      "source": [
        "a=4\n",
        "b=5\n",
        "\n",
        "print(\"a is\",a,\"b is\",b)\n",
        "\n",
        "# addition\n",
        "sum=a+b\n",
        "print(sum)\n",
        "\n",
        "#subtraction\n",
        "Diff=a-b\n",
        "print(Diff)\n",
        "\n",
        "# multiplication\n",
        "mul=a*b\n",
        "print(mul)\n",
        "\n",
        "# division (float value)\n",
        "quotient=a/b\n",
        "print(quotient)\n",
        "\n",
        "# divison (floor value)\n",
        "quotient1=a//b\n",
        "print(quotient1)\n",
        "\n",
        "# modulus division\n",
        "remainder=a%b\n",
        "print(remainder)\n",
        "\n",
        "\n"
      ],
      "execution_count": 1,
      "outputs": [
        {
          "output_type": "stream",
          "text": [
            "a is 4 b is 5\n",
            "9\n",
            "-1\n",
            "20\n",
            "0.8\n",
            "0\n",
            "4\n"
          ],
          "name": "stdout"
        }
      ]
    },
    {
      "cell_type": "markdown",
      "metadata": {
        "id": "VpsmZ_5MUTtV",
        "colab_type": "text"
      },
      "source": [
        "## Relational operator\n",
        "\n",
        "These operators compare two value and return output in the form of True or False"
      ]
    },
    {
      "cell_type": "code",
      "metadata": {
        "id": "sJ1NwKm-UT6e",
        "colab_type": "code",
        "colab": {
          "base_uri": "https://localhost:8080/",
          "height": 87
        },
        "outputId": "a4622c74-669e-46fe-f111-09a018134f2e"
      },
      "source": [
        "a=4\n",
        "b=5\n",
        "print(\"a is\",a,\"b is\",b)\n",
        "\n",
        "# checks whether the two values are equal\n",
        "x=(a==b)\n",
        "print(\"The both numbers are equal-\",x) \n",
        "\n",
        "# less than '<' checks if the 1st operand is less than the second operand\n",
        "x=(a<b)\n",
        "print(\"b is greater than a-\",x)\n",
        "\n",
        "# '!=' not equal to\n",
        "# returns true if both values are not same\n",
        "x=(a!=b)\n",
        "print(\"a and b are not equal-\",x)"
      ],
      "execution_count": 1,
      "outputs": [
        {
          "output_type": "stream",
          "text": [
            "a is 4 b is 5\n",
            "The both numbers are equal- False\n",
            "b is greater than a- True\n",
            "a and b are not equal- True\n"
          ],
          "name": "stdout"
        }
      ]
    },
    {
      "cell_type": "markdown",
      "metadata": {
        "id": "HPkqj6TBWX1d",
        "colab_type": "text"
      },
      "source": [
        "## Logical Operators\n",
        "\n",
        "Logical operators perform Logical AND, Logical OR and Logical NOT operations.\n"
      ]
    },
    {
      "cell_type": "code",
      "metadata": {
        "id": "CmY-HvgNWYJ3",
        "colab_type": "code",
        "colab": {
          "base_uri": "https://localhost:8080/",
          "height": 87
        },
        "outputId": "12979dd7-2ba4-4e15-a812-073f92e03ead"
      },
      "source": [
        "a=(4<5)\n",
        "b=(5>4)\n",
        "print(\"values of a and b are\",a,\"and\",b)\n",
        "\n",
        "# 'and' returns True if both the operands are true\n",
        "c=a and b\n",
        "print(\"Result of logical and operator-\",c)\n",
        "\n",
        "# 'or' returns True if either of the operands is true\n",
        "c=a and b\n",
        "print(\"Result of logical or operator-\",c)\n",
        "\n",
        "# 'not' returns True if operand is false ans vice versa\n",
        "c=not a\n",
        "print(\"Opposite a value of a is-\",c)\n",
        "\n",
        "\n"
      ],
      "execution_count": 3,
      "outputs": [
        {
          "output_type": "stream",
          "text": [
            "values of a and b are True and True\n",
            "Result of logical and operator- True\n",
            "Result of logical or operator- True\n",
            "Opposite a value of a is- False\n"
          ],
          "name": "stdout"
        }
      ]
    },
    {
      "cell_type": "markdown",
      "metadata": {
        "id": "9bWhkyfKX8eG",
        "colab_type": "text"
      },
      "source": [
        "## **Bitwise Operator**\n",
        "\n",
        " Bitwise operators acts on bits and performs bit by bit operation."
      ]
    },
    {
      "cell_type": "code",
      "metadata": {
        "id": "XH4wY6ikX8tZ",
        "colab_type": "code",
        "colab": {
          "base_uri": "https://localhost:8080/",
          "height": 122
        },
        "outputId": "ece23fe8-59ff-4ef8-aa61-52537332ca37"
      },
      "source": [
        "a = 10\n",
        "b = 4\n",
        "  \n",
        "# bitwise AND operation   \n",
        "print(a & b) \n",
        "  \n",
        "# bitwise OR operation \n",
        "print(a | b) \n",
        "  \n",
        "# bitwise NOT operation  \n",
        "print(~a) \n",
        "  \n",
        "# bitwise XOR operation  \n",
        "print(a ^ b) \n",
        "  \n",
        "# bitwise right shift operation  \n",
        "print(a >> 2) \n",
        "  \n",
        "# bitwise left shift operation  \n",
        "print(a << 2)"
      ],
      "execution_count": 16,
      "outputs": [
        {
          "output_type": "stream",
          "text": [
            "0\n",
            "14\n",
            "-11\n",
            "14\n",
            "2\n",
            "40\n"
          ],
          "name": "stdout"
        }
      ]
    },
    {
      "cell_type": "markdown",
      "metadata": {
        "id": "EJp1j85bZEzE",
        "colab_type": "text"
      },
      "source": [
        "## Assignment Operator\n",
        "\n",
        "It is used for assigning values to the variable.\n"
      ]
    },
    {
      "cell_type": "code",
      "metadata": {
        "id": "MbiIDrPCZFF3",
        "colab_type": "code",
        "colab": {
          "base_uri": "https://localhost:8080/",
          "height": 87
        },
        "outputId": "fce25b43-910a-4d06-91ec-6f30f3c59373"
      },
      "source": [
        "# \"=\" is used to assign second operand value to first operand\n",
        "a=6\n",
        "print(a)\n",
        "\n",
        "# \"+=\" add right side operand with left side operand \n",
        "# then assign to left operand\n",
        "a+=5\n",
        "print(\"value of a is\",a)\n",
        "\n",
        "# \"%=\" takes modulus using left and right operands \n",
        "# assign result to left operand\n",
        "a%=4\n",
        "print(\"value of a is\",a)\n",
        "\n",
        "# \"&=\" Performs Bitwise AND on operands \n",
        "# assign value to left operand\n",
        "print(\"value of a is\",a)\n",
        "\n",
        "\n",
        "\n",
        "\n",
        "\n",
        "\n"
      ],
      "execution_count": 4,
      "outputs": [
        {
          "output_type": "stream",
          "text": [
            "6\n",
            "value of a is 11\n",
            "value of a is 3\n",
            "value of a is 3\n"
          ],
          "name": "stdout"
        }
      ]
    },
    {
      "cell_type": "markdown",
      "metadata": {
        "id": "oNN-8YyCbEqI",
        "colab_type": "text"
      },
      "source": [
        "## **Built-in Functions**\n",
        "\n"
      ]
    },
    {
      "cell_type": "code",
      "metadata": {
        "id": "ImdujnLrbE49",
        "colab_type": "code",
        "colab": {
          "base_uri": "https://localhost:8080/",
          "height": 210
        },
        "outputId": "1416ec80-9046-4ff0-ecc1-47425a07780d"
      },
      "source": [
        "# input() function is used to take input from the user\n",
        "z=int(input(\"Enter a number\"))\n",
        "\n",
        "if(z<0):\n",
        "  print(z,\"is  negative\")# print() is used to display the data\n",
        "else:\n",
        "  print(z,\"is  positive\")\n",
        "\n",
        "y=-78\n",
        "\n",
        "# abs() returns the absolute value\n",
        "print(\"absolute value of\",y,\"is\",abs(y))\n",
        "\n",
        "# type() returns the type of an object\n",
        "print(\"Type of the variable stored user entered number is\",type(z))\n",
        "\n",
        "l1=[1,5,4,3]\n",
        "# reverse() is used to reverse the list\n",
        "l1.reverse()\n",
        "print(l1)\n",
        "\n",
        "a=int(input(\"Enter base number-b\"))\n",
        "b=int(input(\"Enter power of number-p\"))\n",
        "print(\"b to the power p is\",pow(a,b))#returns value b^p\n",
        "\n",
        "# ascii() returns the printable representation of python object\n",
        "asc=ascii(\"r\")\n",
        "print(\"ascii value of r is\",asc)\n",
        "\n",
        "# complex() creates complex number\n",
        "print(\"Complex number with real part b and imaginary part p is\",complex(a,b))\n",
        "\n",
        "# hex() converts an integer to hexadecimal.\n",
        "print(\"Hexadecimal value of a=\",a,\"is\",hex(a))"
      ],
      "execution_count": 15,
      "outputs": [
        {
          "output_type": "stream",
          "text": [
            "Enter a number4\n",
            "4 is  positive\n",
            "absolute value of -78 is 78\n",
            "Type of the variable stored user entered number is <class 'int'>\n",
            "[3, 4, 5, 1]\n",
            "Enter base number-b6\n",
            "Enter power of number-p8\n",
            "b to the power p is 1679616\n",
            "ascii value of r is 'r'\n",
            "Complex number with real part b and imaginary part p is (6+8j)\n",
            "Hexadecimal value of a= 6 is 0x6\n"
          ],
          "name": "stdout"
        }
      ]
    }
  ]
}